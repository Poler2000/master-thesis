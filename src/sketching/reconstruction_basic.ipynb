{
 "cells": [
  {
   "cell_type": "code",
   "execution_count": 1,
   "id": "533fb68c-b771-4c76-abe9-1fed9dd14ee4",
   "metadata": {
    "tags": []
   },
   "outputs": [],
   "source": [
    "import tensorflow as tf\n",
    "from tensorflow.keras.models import Sequential\n",
    "from tensorflow.keras.layers import Dense\n",
    "from sklearn.model_selection import train_test_split\n",
    "import numpy as np\n",
    "from tensorflow.keras.metrics import BinaryAccuracy, Precision, Recall, AUC"
   ]
  },
  {
   "cell_type": "code",
   "execution_count": 2,
   "id": "ab63d9e2-16e4-4266-b08c-e402832b761b",
   "metadata": {
    "tags": []
   },
   "outputs": [],
   "source": [
    "from scipy.io import loadmat\n",
    "from scipy.io import savemat\n",
    "from sklearn.svm import SVC\n",
    "from sklearn.svm import LinearSVC\n",
    "from scipy.spatial.distance import squareform\n",
    "from scipy.spatial.distance import pdist\n",
    "from scipy.spatial.distance import cdist"
   ]
  },
  {
   "cell_type": "code",
   "execution_count": 10,
   "id": "609d644c-2637-4e14-9fd7-60ffbdc0592c",
   "metadata": {
    "tags": []
   },
   "outputs": [
    {
     "name": "stdout",
     "output_type": "stream",
     "text": [
      "[[1. 0.]\n",
      " [1. 0.]\n",
      " [1. 0.]\n",
      " [1. 1.]\n",
      " [1. 0.]]\n",
      "[[0. 0. 0. 0. 0.]\n",
      " [0. 0. 0. 0. 0.]\n",
      " [0. 0. 0. 0. 0.]\n",
      " [0. 0. 0. 0. 0.]\n",
      " [0. 0. 0. 0. 0.]]\n"
     ]
    }
   ],
   "source": [
    "mat = loadmat('..\\\\results\\\\var_k\\dblp\\\\res_dblp_exp_2_002_128.mat')\n",
    "features_matrix = mat['embs']\n",
    "\n",
    "mat = loadmat(\"../data/dblp.mat\")\n",
    "A = mat[\"network\"]\n",
    "labels_matrix = mat[\"group\"]\n",
    "labels_count = labels_matrix.shape[1]\n",
    "\n",
    "groups = labels_matrix.toarray()\n",
    "A = A.toarray()\n",
    "X = features_matrix\n",
    "\n",
    "print(groups[:5, :5])\n",
    "print(A[:5, :5])"
   ]
  },
  {
   "cell_type": "code",
   "execution_count": 11,
   "id": "6f049347-795e-4eb7-a38c-33a996116c11",
   "metadata": {
    "tags": []
   },
   "outputs": [],
   "source": [
    "# Number of nodes\n",
    "num_nodes = 13326\n",
    "num_features = 128"
   ]
  },
  {
   "cell_type": "code",
   "execution_count": 12,
   "id": "110e9fda-27a4-41c7-9ccf-9ea2c449ccb6",
   "metadata": {
    "tags": []
   },
   "outputs": [],
   "source": [
    "X_train, X_test, A_train, A_test = train_test_split(X, A, test_size=0.25, random_state=2137)"
   ]
  },
  {
   "cell_type": "code",
   "execution_count": 13,
   "id": "614294b5-a5b3-4beb-8af4-9b43559687d4",
   "metadata": {
    "tags": []
   },
   "outputs": [],
   "source": [
    "from tensorflow.keras.metrics import Metric, Precision, Recall\n",
    "\n",
    "class F1Score(Metric):\n",
    "    def __init__(self, name='f1_score', **kwargs):\n",
    "        super(F1Score, self).__init__(name=name, **kwargs)\n",
    "        self.precision = Precision()\n",
    "        self.recall = Recall()\n",
    "        self.f1_score = self.add_weight(name=\"f1\", initializer=\"zeros\")\n",
    "\n",
    "    def update_state(self, y_true, y_pred, sample_weight=None):\n",
    "        self.precision.update_state(y_true, y_pred, sample_weight)\n",
    "        self.recall.update_state(y_true, y_pred, sample_weight)\n",
    "        p = self.precision.result()\n",
    "        r = self.recall.result()\n",
    "        self.f1_score.assign(2 * ((p * r) / (p + r + 1e-6)))  # Added a small epsilon to avoid division by zero\n",
    "\n",
    "    def result(self):\n",
    "        return self.f1_score\n",
    "\n",
    "    def reset_state(self):\n",
    "        self.precision.reset_states()\n",
    "        self.recall.reset_states()\n",
    "        self.f1_score.assign(0)\n"
   ]
  },
  {
   "cell_type": "code",
   "execution_count": 14,
   "id": "fc9e3ed1-28b1-46b8-be59-3628a9b627f4",
   "metadata": {
    "tags": []
   },
   "outputs": [],
   "source": [
    "model = Sequential([\n",
    "    Dense(64, activation='relu', input_dim=num_features),\n",
    "    Dense(64, activation='relu'),\n",
    "    Dense(num_nodes, activation='sigmoid')  # Output layer\n",
    "])"
   ]
  },
  {
   "cell_type": "code",
   "execution_count": 15,
   "id": "6f157f03-196f-4f22-b69d-9805caad4cee",
   "metadata": {
    "tags": []
   },
   "outputs": [],
   "source": [
    "model.compile(optimizer='adam', loss='binary_crossentropy', metrics=[\n",
    "        BinaryAccuracy(name='accuracy'),\n",
    "        Precision(name='precision'),\n",
    "        Recall(name='recall'),\n",
    "        AUC(name='auc'),\n",
    "        F1Score()\n",
    "    ])"
   ]
  },
  {
   "cell_type": "code",
   "execution_count": 16,
   "id": "5e79d765-1a15-4b90-b5fc-5fba1fd82684",
   "metadata": {
    "tags": []
   },
   "outputs": [
    {
     "name": "stdout",
     "output_type": "stream",
     "text": [
      "Epoch 1/50\n",
      "900/900 [==============================] - 9s 9ms/step - loss: 0.0188 - accuracy: 0.9980 - precision: 3.0939e-04 - recall: 0.0013 - auc: 0.5817 - f1_score: 4.9915e-04 - val_loss: 0.0041 - val_accuracy: 0.9996 - val_precision: 0.0000e+00 - val_recall: 0.0000e+00 - val_auc: 0.5755 - val_f1_score: 0.0000e+00\n",
      "Epoch 2/50\n",
      "900/900 [==============================] - 7s 8ms/step - loss: 0.0035 - accuracy: 0.9996 - precision: 0.0000e+00 - recall: 0.0000e+00 - auc: 0.5647 - f1_score: 0.0000e+00 - val_loss: 0.0034 - val_accuracy: 0.9996 - val_precision: 0.0000e+00 - val_recall: 0.0000e+00 - val_auc: 0.5568 - val_f1_score: 0.0000e+00\n",
      "Epoch 3/50\n",
      "900/900 [==============================] - 7s 8ms/step - loss: 0.0032 - accuracy: 0.9996 - precision: 0.0000e+00 - recall: 0.0000e+00 - auc: 0.5481 - f1_score: 0.0000e+00 - val_loss: 0.0033 - val_accuracy: 0.9996 - val_precision: 0.0000e+00 - val_recall: 0.0000e+00 - val_auc: 0.5378 - val_f1_score: 0.0000e+00\n",
      "Epoch 4/50\n",
      "900/900 [==============================] - 7s 8ms/step - loss: 0.0031 - accuracy: 0.9996 - precision: 0.0000e+00 - recall: 0.0000e+00 - auc: 0.5641 - f1_score: 0.0000e+00 - val_loss: 0.0033 - val_accuracy: 0.9996 - val_precision: 0.0000e+00 - val_recall: 0.0000e+00 - val_auc: 0.5601 - val_f1_score: 0.0000e+00\n",
      "Epoch 5/50\n",
      "900/900 [==============================] - 7s 8ms/step - loss: 0.0030 - accuracy: 0.9996 - precision: 0.0000e+00 - recall: 0.0000e+00 - auc: 0.5868 - f1_score: 0.0000e+00 - val_loss: 0.0032 - val_accuracy: 0.9996 - val_precision: 0.0000e+00 - val_recall: 0.0000e+00 - val_auc: 0.5696 - val_f1_score: 0.0000e+00\n",
      "Epoch 6/50\n",
      "900/900 [==============================] - 7s 8ms/step - loss: 0.0029 - accuracy: 0.9996 - precision: 0.0000e+00 - recall: 0.0000e+00 - auc: 0.6160 - f1_score: 0.0000e+00 - val_loss: 0.0032 - val_accuracy: 0.9996 - val_precision: 0.0000e+00 - val_recall: 0.0000e+00 - val_auc: 0.6098 - val_f1_score: 0.0000e+00\n",
      "Epoch 7/50\n",
      "900/900 [==============================] - 7s 8ms/step - loss: 0.0027 - accuracy: 0.9996 - precision: 0.8438 - recall: 5.8279e-04 - auc: 0.6581 - f1_score: 0.0012 - val_loss: 0.0031 - val_accuracy: 0.9996 - val_precision: 0.0000e+00 - val_recall: 0.0000e+00 - val_auc: 0.6207 - val_f1_score: 0.0000e+00\n",
      "Epoch 8/50\n",
      "900/900 [==============================] - 7s 8ms/step - loss: 0.0025 - accuracy: 0.9996 - precision: 0.9031 - recall: 0.0038 - auc: 0.6996 - f1_score: 0.0076 - val_loss: 0.0031 - val_accuracy: 0.9996 - val_precision: 0.0000e+00 - val_recall: 0.0000e+00 - val_auc: 0.6435 - val_f1_score: 0.0000e+00\n",
      "Epoch 9/50\n",
      "900/900 [==============================] - 8s 8ms/step - loss: 0.0024 - accuracy: 0.9996 - precision: 0.8940 - recall: 0.0084 - auc: 0.7399 - f1_score: 0.0166 - val_loss: 0.0030 - val_accuracy: 0.9996 - val_precision: 0.6429 - val_recall: 0.0035 - val_auc: 0.6662 - val_f1_score: 0.0069\n",
      "Epoch 10/50\n",
      "900/900 [==============================] - 7s 8ms/step - loss: 0.0023 - accuracy: 0.9996 - precision: 0.8768 - recall: 0.0134 - auc: 0.7788 - f1_score: 0.0263 - val_loss: 0.0030 - val_accuracy: 0.9996 - val_precision: 0.8393 - val_recall: 0.0091 - val_auc: 0.6799 - val_f1_score: 0.0180\n",
      "Epoch 11/50\n",
      "900/900 [==============================] - 8s 8ms/step - loss: 0.0021 - accuracy: 0.9996 - precision: 0.8494 - recall: 0.0212 - auc: 0.8143 - f1_score: 0.0413 - val_loss: 0.0030 - val_accuracy: 0.9996 - val_precision: 0.7882 - val_recall: 0.0130 - val_auc: 0.6886 - val_f1_score: 0.0255\n",
      "Epoch 12/50\n",
      "900/900 [==============================] - 8s 8ms/step - loss: 0.0020 - accuracy: 0.9996 - precision: 0.8433 - recall: 0.0299 - auc: 0.8465 - f1_score: 0.0577 - val_loss: 0.0030 - val_accuracy: 0.9996 - val_precision: 0.7933 - val_recall: 0.0275 - val_auc: 0.7115 - val_f1_score: 0.0531\n",
      "Epoch 13/50\n",
      "900/900 [==============================] - 8s 8ms/step - loss: 0.0019 - accuracy: 0.9996 - precision: 0.8125 - recall: 0.0447 - auc: 0.8736 - f1_score: 0.0847 - val_loss: 0.0030 - val_accuracy: 0.9996 - val_precision: 0.7305 - val_recall: 0.0236 - val_auc: 0.7081 - val_f1_score: 0.0457\n",
      "Epoch 14/50\n",
      "900/900 [==============================] - 7s 8ms/step - loss: 0.0018 - accuracy: 0.9996 - precision: 0.8123 - recall: 0.0576 - auc: 0.8952 - f1_score: 0.1076 - val_loss: 0.0030 - val_accuracy: 0.9996 - val_precision: 0.6914 - val_recall: 0.0451 - val_auc: 0.7195 - val_f1_score: 0.0846\n",
      "Epoch 15/50\n",
      "900/900 [==============================] - 7s 8ms/step - loss: 0.0017 - accuracy: 0.9996 - precision: 0.7927 - recall: 0.0782 - auc: 0.9104 - f1_score: 0.1424 - val_loss: 0.0031 - val_accuracy: 0.9996 - val_precision: 0.6782 - val_recall: 0.0493 - val_auc: 0.7183 - val_f1_score: 0.0920\n",
      "Epoch 16/50\n",
      "900/900 [==============================] - 8s 8ms/step - loss: 0.0016 - accuracy: 0.9996 - precision: 0.7858 - recall: 0.0964 - auc: 0.9245 - f1_score: 0.1718 - val_loss: 0.0031 - val_accuracy: 0.9996 - val_precision: 0.6515 - val_recall: 0.0607 - val_auc: 0.7117 - val_f1_score: 0.1111\n",
      "Epoch 17/50\n",
      "900/900 [==============================] - 8s 8ms/step - loss: 0.0015 - accuracy: 0.9996 - precision: 0.7782 - recall: 0.1189 - auc: 0.9355 - f1_score: 0.2062 - val_loss: 0.0032 - val_accuracy: 0.9996 - val_precision: 0.6102 - val_recall: 0.0760 - val_auc: 0.7155 - val_f1_score: 0.1352\n",
      "Epoch 18/50\n",
      "900/900 [==============================] - 7s 8ms/step - loss: 0.0014 - accuracy: 0.9996 - precision: 0.7841 - recall: 0.1475 - auc: 0.9437 - f1_score: 0.2483 - val_loss: 0.0033 - val_accuracy: 0.9996 - val_precision: 0.5983 - val_recall: 0.0824 - val_auc: 0.7122 - val_f1_score: 0.1449\n",
      "Epoch 19/50\n",
      "900/900 [==============================] - 7s 8ms/step - loss: 0.0013 - accuracy: 0.9996 - precision: 0.7908 - recall: 0.1728 - auc: 0.9505 - f1_score: 0.2836 - val_loss: 0.0033 - val_accuracy: 0.9996 - val_precision: 0.5077 - val_recall: 0.1021 - val_auc: 0.7215 - val_f1_score: 0.1701\n",
      "Epoch 20/50\n",
      "900/900 [==============================] - 7s 8ms/step - loss: 0.0012 - accuracy: 0.9997 - precision: 0.7937 - recall: 0.2052 - auc: 0.9549 - f1_score: 0.3261 - val_loss: 0.0034 - val_accuracy: 0.9996 - val_precision: 0.4996 - val_recall: 0.1109 - val_auc: 0.7216 - val_f1_score: 0.1814\n",
      "Epoch 21/50\n",
      "900/900 [==============================] - 7s 8ms/step - loss: 0.0012 - accuracy: 0.9997 - precision: 0.8013 - recall: 0.2364 - auc: 0.9600 - f1_score: 0.3651 - val_loss: 0.0035 - val_accuracy: 0.9996 - val_precision: 0.5258 - val_recall: 0.1141 - val_auc: 0.7127 - val_f1_score: 0.1876\n",
      "Epoch 22/50\n",
      "900/900 [==============================] - 8s 9ms/step - loss: 0.0011 - accuracy: 0.9997 - precision: 0.8098 - recall: 0.2736 - auc: 0.9637 - f1_score: 0.4090 - val_loss: 0.0036 - val_accuracy: 0.9996 - val_precision: 0.5021 - val_recall: 0.1165 - val_auc: 0.7099 - val_f1_score: 0.1891\n",
      "Epoch 23/50\n",
      "900/900 [==============================] - 7s 8ms/step - loss: 0.0010 - accuracy: 0.9997 - precision: 0.8191 - recall: 0.3037 - auc: 0.9672 - f1_score: 0.4431 - val_loss: 0.0036 - val_accuracy: 0.9996 - val_precision: 0.4844 - val_recall: 0.1319 - val_auc: 0.7146 - val_f1_score: 0.2074\n",
      "Epoch 24/50\n",
      "900/900 [==============================] - 7s 8ms/step - loss: 9.9557e-04 - accuracy: 0.9997 - precision: 0.8195 - recall: 0.3357 - auc: 0.9702 - f1_score: 0.4763 - val_loss: 0.0037 - val_accuracy: 0.9996 - val_precision: 0.4736 - val_recall: 0.1391 - val_auc: 0.7128 - val_f1_score: 0.2150\n",
      "Epoch 25/50\n",
      "900/900 [==============================] - 7s 8ms/step - loss: 9.4828e-04 - accuracy: 0.9997 - precision: 0.8297 - recall: 0.3677 - auc: 0.9727 - f1_score: 0.5095 - val_loss: 0.0038 - val_accuracy: 0.9996 - val_precision: 0.4678 - val_recall: 0.1405 - val_auc: 0.7048 - val_f1_score: 0.2160\n",
      "Epoch 26/50\n",
      "900/900 [==============================] - 7s 8ms/step - loss: 9.0350e-04 - accuracy: 0.9997 - precision: 0.8354 - recall: 0.3974 - auc: 0.9750 - f1_score: 0.5386 - val_loss: 0.0040 - val_accuracy: 0.9996 - val_precision: 0.4671 - val_recall: 0.1401 - val_auc: 0.7023 - val_f1_score: 0.2155\n",
      "Epoch 27/50\n",
      "900/900 [==============================] - 7s 8ms/step - loss: 8.6400e-04 - accuracy: 0.9997 - precision: 0.8422 - recall: 0.4223 - auc: 0.9764 - f1_score: 0.5625 - val_loss: 0.0041 - val_accuracy: 0.9996 - val_precision: 0.4599 - val_recall: 0.1474 - val_auc: 0.7036 - val_f1_score: 0.2233\n",
      "Epoch 28/50\n",
      "900/900 [==============================] - 7s 8ms/step - loss: 8.2874e-04 - accuracy: 0.9997 - precision: 0.8483 - recall: 0.4492 - auc: 0.9783 - f1_score: 0.5874 - val_loss: 0.0041 - val_accuracy: 0.9996 - val_precision: 0.4611 - val_recall: 0.1490 - val_auc: 0.7004 - val_f1_score: 0.2252\n",
      "Epoch 29/50\n",
      "900/900 [==============================] - 7s 8ms/step - loss: 7.9519e-04 - accuracy: 0.9998 - precision: 0.8520 - recall: 0.4723 - auc: 0.9791 - f1_score: 0.6077 - val_loss: 0.0042 - val_accuracy: 0.9996 - val_precision: 0.4219 - val_recall: 0.1530 - val_auc: 0.7005 - val_f1_score: 0.2246\n",
      "Epoch 30/50\n",
      "900/900 [==============================] - 7s 8ms/step - loss: 7.6389e-04 - accuracy: 0.9998 - precision: 0.8526 - recall: 0.4954 - auc: 0.9805 - f1_score: 0.6267 - val_loss: 0.0043 - val_accuracy: 0.9996 - val_precision: 0.4055 - val_recall: 0.1606 - val_auc: 0.7017 - val_f1_score: 0.2300\n",
      "Epoch 31/50\n",
      "900/900 [==============================] - 7s 8ms/step - loss: 7.3576e-04 - accuracy: 0.9998 - precision: 0.8586 - recall: 0.5136 - auc: 0.9815 - f1_score: 0.6427 - val_loss: 0.0044 - val_accuracy: 0.9996 - val_precision: 0.3935 - val_recall: 0.1722 - val_auc: 0.7033 - val_f1_score: 0.2395\n",
      "Epoch 32/50\n",
      "900/900 [==============================] - 7s 8ms/step - loss: 7.1164e-04 - accuracy: 0.9998 - precision: 0.8643 - recall: 0.5331 - auc: 0.9827 - f1_score: 0.6595 - val_loss: 0.0045 - val_accuracy: 0.9996 - val_precision: 0.4214 - val_recall: 0.1633 - val_auc: 0.6908 - val_f1_score: 0.2354\n",
      "Epoch 33/50\n",
      "900/900 [==============================] - 7s 8ms/step - loss: 6.8548e-04 - accuracy: 0.9998 - precision: 0.8674 - recall: 0.5547 - auc: 0.9830 - f1_score: 0.6767 - val_loss: 0.0045 - val_accuracy: 0.9996 - val_precision: 0.3954 - val_recall: 0.1718 - val_auc: 0.6961 - val_f1_score: 0.2395\n",
      "Epoch 34/50\n",
      "900/900 [==============================] - 9s 10ms/step - loss: 6.6590e-04 - accuracy: 0.9998 - precision: 0.8672 - recall: 0.5660 - auc: 0.9837 - f1_score: 0.6850 - val_loss: 0.0046 - val_accuracy: 0.9996 - val_precision: 0.3970 - val_recall: 0.1708 - val_auc: 0.6931 - val_f1_score: 0.2389\n",
      "Epoch 35/50\n",
      "900/900 [==============================] - 7s 8ms/step - loss: 6.4321e-04 - accuracy: 0.9998 - precision: 0.8725 - recall: 0.5828 - auc: 0.9845 - f1_score: 0.6988 - val_loss: 0.0048 - val_accuracy: 0.9996 - val_precision: 0.4190 - val_recall: 0.1650 - val_auc: 0.6878 - val_f1_score: 0.2368\n",
      "Epoch 36/50\n",
      "900/900 [==============================] - 7s 8ms/step - loss: 6.2523e-04 - accuracy: 0.9998 - precision: 0.8748 - recall: 0.5981 - auc: 0.9853 - f1_score: 0.7104 - val_loss: 0.0048 - val_accuracy: 0.9996 - val_precision: 0.3815 - val_recall: 0.1793 - val_auc: 0.6930 - val_f1_score: 0.2440\n",
      "Epoch 37/50\n",
      "900/900 [==============================] - 7s 8ms/step - loss: 6.0747e-04 - accuracy: 0.9998 - precision: 0.8759 - recall: 0.6068 - auc: 0.9857 - f1_score: 0.7169 - val_loss: 0.0050 - val_accuracy: 0.9996 - val_precision: 0.4152 - val_recall: 0.1619 - val_auc: 0.6852 - val_f1_score: 0.2330\n",
      "Epoch 38/50\n",
      "900/900 [==============================] - 7s 8ms/step - loss: 5.9362e-04 - accuracy: 0.9998 - precision: 0.8795 - recall: 0.6225 - auc: 0.9859 - f1_score: 0.7290 - val_loss: 0.0049 - val_accuracy: 0.9996 - val_precision: 0.3821 - val_recall: 0.1820 - val_auc: 0.6903 - val_f1_score: 0.2466\n",
      "Epoch 39/50\n",
      "900/900 [==============================] - 7s 8ms/step - loss: 5.7629e-04 - accuracy: 0.9998 - precision: 0.8835 - recall: 0.6317 - auc: 0.9868 - f1_score: 0.7367 - val_loss: 0.0050 - val_accuracy: 0.9996 - val_precision: 0.3686 - val_recall: 0.1832 - val_auc: 0.6913 - val_f1_score: 0.2448\n",
      "Epoch 40/50\n",
      "900/900 [==============================] - 8s 9ms/step - loss: 5.6282e-04 - accuracy: 0.9998 - precision: 0.8823 - recall: 0.6410 - auc: 0.9870 - f1_score: 0.7425 - val_loss: 0.0050 - val_accuracy: 0.9996 - val_precision: 0.3651 - val_recall: 0.1859 - val_auc: 0.6902 - val_f1_score: 0.2464\n",
      "Epoch 41/50\n",
      "900/900 [==============================] - 7s 8ms/step - loss: 5.4748e-04 - accuracy: 0.9998 - precision: 0.8863 - recall: 0.6538 - auc: 0.9875 - f1_score: 0.7525 - val_loss: 0.0051 - val_accuracy: 0.9996 - val_precision: 0.3668 - val_recall: 0.1853 - val_auc: 0.6897 - val_f1_score: 0.2462\n",
      "Epoch 42/50\n",
      "900/900 [==============================] - 7s 8ms/step - loss: 5.3707e-04 - accuracy: 0.9998 - precision: 0.8877 - recall: 0.6617 - auc: 0.9876 - f1_score: 0.7582 - val_loss: 0.0052 - val_accuracy: 0.9996 - val_precision: 0.3601 - val_recall: 0.1863 - val_auc: 0.6861 - val_f1_score: 0.2456\n",
      "Epoch 43/50\n",
      "900/900 [==============================] - 7s 8ms/step - loss: 5.2465e-04 - accuracy: 0.9998 - precision: 0.8910 - recall: 0.6704 - auc: 0.9881 - f1_score: 0.7651 - val_loss: 0.0053 - val_accuracy: 0.9996 - val_precision: 0.3878 - val_recall: 0.1840 - val_auc: 0.6847 - val_f1_score: 0.2496\n",
      "Epoch 44/50\n",
      "900/900 [==============================] - 6s 7ms/step - loss: 5.1356e-04 - accuracy: 0.9998 - precision: 0.8924 - recall: 0.6772 - auc: 0.9885 - f1_score: 0.7701 - val_loss: 0.0053 - val_accuracy: 0.9996 - val_precision: 0.3623 - val_recall: 0.1902 - val_auc: 0.6877 - val_f1_score: 0.2494\n",
      "Epoch 45/50\n",
      "900/900 [==============================] - 6s 7ms/step - loss: 5.0430e-04 - accuracy: 0.9998 - precision: 0.8909 - recall: 0.6818 - auc: 0.9889 - f1_score: 0.7724 - val_loss: 0.0054 - val_accuracy: 0.9996 - val_precision: 0.3565 - val_recall: 0.1888 - val_auc: 0.6843 - val_f1_score: 0.2469\n",
      "Epoch 46/50\n",
      "900/900 [==============================] - 6s 7ms/step - loss: 4.9299e-04 - accuracy: 0.9998 - precision: 0.8939 - recall: 0.6914 - auc: 0.9887 - f1_score: 0.7797 - val_loss: 0.0054 - val_accuracy: 0.9995 - val_precision: 0.3431 - val_recall: 0.1991 - val_auc: 0.6872 - val_f1_score: 0.2520\n",
      "Epoch 47/50\n",
      "900/900 [==============================] - 7s 7ms/step - loss: 4.8529e-04 - accuracy: 0.9998 - precision: 0.8949 - recall: 0.6990 - auc: 0.9888 - f1_score: 0.7849 - val_loss: 0.0054 - val_accuracy: 0.9995 - val_precision: 0.3432 - val_recall: 0.1944 - val_auc: 0.6857 - val_f1_score: 0.2482\n",
      "Epoch 48/50\n",
      "900/900 [==============================] - 6s 7ms/step - loss: 4.7495e-04 - accuracy: 0.9998 - precision: 0.8982 - recall: 0.7052 - auc: 0.9894 - f1_score: 0.7901 - val_loss: 0.0055 - val_accuracy: 0.9995 - val_precision: 0.3523 - val_recall: 0.1915 - val_auc: 0.6843 - val_f1_score: 0.2482\n",
      "Epoch 49/50\n",
      "900/900 [==============================] - 9s 10ms/step - loss: 4.6818e-04 - accuracy: 0.9998 - precision: 0.8979 - recall: 0.7102 - auc: 0.9897 - f1_score: 0.7931 - val_loss: 0.0056 - val_accuracy: 0.9995 - val_precision: 0.3365 - val_recall: 0.1925 - val_auc: 0.6825 - val_f1_score: 0.2449\n",
      "Epoch 50/50\n",
      "900/900 [==============================] - 8s 9ms/step - loss: 4.5907e-04 - accuracy: 0.9998 - precision: 0.9009 - recall: 0.7159 - auc: 0.9900 - f1_score: 0.7978 - val_loss: 0.0056 - val_accuracy: 0.9995 - val_precision: 0.3362 - val_recall: 0.1937 - val_auc: 0.6825 - val_f1_score: 0.2458\n"
     ]
    },
    {
     "data": {
      "text/plain": [
       "<keras.src.callbacks.History at 0x1e66b87bc50>"
      ]
     },
     "execution_count": 16,
     "metadata": {},
     "output_type": "execute_result"
    }
   ],
   "source": [
    "model.fit(X_train, A_train, epochs=50, batch_size=10, validation_split=0.1)"
   ]
  },
  {
   "cell_type": "code",
   "execution_count": 17,
   "id": "30aaf00d-f0fc-4359-b108-09a408ee8a20",
   "metadata": {
    "tags": []
   },
   "outputs": [
    {
     "name": "stdout",
     "output_type": "stream",
     "text": [
      "105/105 [==============================] - 2s 14ms/step - loss: 0.0054 - accuracy: 0.9996 - precision: 0.3771 - recall: 0.2153 - auc: 0.6934 - f1_score: 0.2741\n",
      "Test Loss: 0.005420168861746788, Test Accuracy: 0.9995616674423218\n"
     ]
    }
   ],
   "source": [
    "loss, accuracy, _, _, _, _ = model.evaluate(X_test, A_test)\n",
    "print(f\"Test Loss: {loss}, Test Accuracy: {accuracy}\")"
   ]
  },
  {
   "cell_type": "code",
   "execution_count": 28,
   "id": "cc19d35c-95c7-458d-8851-2ea6e3db0c48",
   "metadata": {
    "tags": []
   },
   "outputs": [
    {
     "name": "stdout",
     "output_type": "stream",
     "text": [
      "1/1 [==============================] - 0s 21ms/step\n",
      "Predicted connections for node:\n",
      "\n",
      "697\n",
      "847\n",
      "1870\n",
      "2158\n",
      "2791\n",
      "3047\n",
      "3067\n",
      "3912\n",
      "4257\n",
      "4258\n",
      "8522\n",
      "\n",
      "Real\n",
      "\n",
      "697\n",
      "719\n",
      "847\n",
      "857\n",
      "1869\n",
      "1870\n",
      "2158\n",
      "2791\n",
      "3047\n",
      "3067\n",
      "3068\n",
      "3912\n",
      "4257\n",
      "4258\n",
      "6549\n",
      "8522\n"
     ]
    }
   ],
   "source": [
    "def predict_adjacency_row(model, node_features):\n",
    "    \"\"\"\n",
    "    Predict the adjacency row for a given node's features using a trained neural network model.\n",
    "    \n",
    "    Parameters:\n",
    "    - model: The trained neural network model.\n",
    "    - node_features: The feature vector for the node of interest (as a numpy array).\n",
    "    \n",
    "    Returns:\n",
    "    - A binary vector representing the predicted connections from the node to all other nodes.\n",
    "    \"\"\"\n",
    "    # Ensure node_features is the right shape: (1, num_features)\n",
    "    node_features = np.array(node_features).reshape(1, -1)\n",
    "    \n",
    "    # Predict the connection probabilities using the model\n",
    "    predicted_probabilities = model.predict(node_features)\n",
    "    \n",
    "    # Convert probabilities to binary values (0 or 1) using a threshold (e.g., 0.5)\n",
    "    predicted_connections = (predicted_probabilities > 0.5).astype(int)\n",
    "    \n",
    "    # Return the first (and only) row of the predictions\n",
    "    return predicted_connections[0]\n",
    "\n",
    "# Example usage:\n",
    "# Assuming you have the features for a specific node:\n",
    "node_index = 10  # For example, if you want to predict connections for the 10th node\n",
    "node_features = X[node_index]  # Extract features for this node\n",
    "\n",
    "predicted_row = predict_adjacency_row(model, node_features)\n",
    "print(\"Predicted connections for node:\\n\")\n",
    "for i in range(13326):\n",
    "    if predicted_row[i] > 0:\n",
    "        print(i)\n",
    "\n",
    "print(\"\\nReal\\n\")\n",
    "for i in range(13326):\n",
    "    if A[node_index, i] > 0:\n",
    "        print(i)"
   ]
  },
  {
   "cell_type": "code",
   "execution_count": 46,
   "id": "8b8b83d1",
   "metadata": {},
   "outputs": [],
   "source": [
    "mat = loadmat('..\\\\results\\\\var_k\\\\blogcatalog\\\\res_blogcatalog_exp_4_002_128.mat')\n",
    "features_matrix = mat['embs']\n",
    "\n",
    "mat = loadmat(\"../data/blogcatalog.mat\")\n",
    "A = mat[\"network\"]\n",
    "labels_matrix = mat[\"group\"]\n",
    "labels_count = labels_matrix.shape[1]\n",
    "\n",
    "groups = labels_matrix.toarray()\n",
    "A = A.toarray()\n",
    "X = features_matrix\n",
    "num_nodes = 10312\n",
    "num_features = 128"
   ]
  },
  {
   "cell_type": "code",
   "execution_count": 47,
   "id": "0decd637",
   "metadata": {},
   "outputs": [],
   "source": [
    "X_train, X_test, A_train, A_test = train_test_split(X, A, test_size=0.25, random_state=2137)"
   ]
  },
  {
   "cell_type": "code",
   "execution_count": 48,
   "id": "9c8cf1c6",
   "metadata": {},
   "outputs": [],
   "source": [
    "model = Sequential([\n",
    "    Dense(64, activation='relu', input_dim=num_features),\n",
    "    Dense(64, activation='relu'),\n",
    "    Dense(num_nodes, activation='sigmoid')  # Output layer\n",
    "])"
   ]
  },
  {
   "cell_type": "code",
   "execution_count": 49,
   "id": "f8e7d2fd",
   "metadata": {},
   "outputs": [],
   "source": [
    "model.compile(optimizer='adam', loss='binary_crossentropy', metrics=[\n",
    "        BinaryAccuracy(name='accuracy'),\n",
    "        Precision(name='precision'),\n",
    "        Recall(name='recall'),\n",
    "        AUC(name='auc'),\n",
    "        F1Score()\n",
    "    ])"
   ]
  },
  {
   "cell_type": "code",
   "execution_count": 50,
   "id": "c330ff80",
   "metadata": {},
   "outputs": [
    {
     "name": "stdout",
     "output_type": "stream",
     "text": [
      "Epoch 1/50\n",
      "696/696 [==============================] - 6s 7ms/step - loss: 0.0548 - accuracy: 0.9918 - precision: 0.0121 - recall: 0.0040 - auc: 0.8705 - f1_score: 0.0060 - val_loss: 0.0247 - val_accuracy: 0.9937 - val_precision: 0.7852 - val_recall: 0.0088 - val_auc: 0.9283 - val_f1_score: 0.0175\n",
      "Epoch 2/50\n",
      "696/696 [==============================] - 5s 7ms/step - loss: 0.0244 - accuracy: 0.9939 - precision: 0.6727 - recall: 0.0198 - auc: 0.9255 - f1_score: 0.0384 - val_loss: 0.0243 - val_accuracy: 0.9937 - val_precision: 0.6067 - val_recall: 0.0265 - val_auc: 0.9285 - val_f1_score: 0.0508\n",
      "Epoch 3/50\n",
      "696/696 [==============================] - 5s 7ms/step - loss: 0.0240 - accuracy: 0.9939 - precision: 0.6434 - recall: 0.0299 - auc: 0.9265 - f1_score: 0.0572 - val_loss: 0.0238 - val_accuracy: 0.9937 - val_precision: 0.6319 - val_recall: 0.0284 - val_auc: 0.9307 - val_f1_score: 0.0544\n",
      "Epoch 4/50\n",
      "696/696 [==============================] - 5s 7ms/step - loss: 0.0237 - accuracy: 0.9939 - precision: 0.6410 - recall: 0.0352 - auc: 0.9268 - f1_score: 0.0667 - val_loss: 0.0235 - val_accuracy: 0.9938 - val_precision: 0.6442 - val_recall: 0.0347 - val_auc: 0.9321 - val_f1_score: 0.0658\n",
      "Epoch 5/50\n",
      "696/696 [==============================] - 4s 6ms/step - loss: 0.0235 - accuracy: 0.9939 - precision: 0.6417 - recall: 0.0421 - auc: 0.9263 - f1_score: 0.0790 - val_loss: 0.0232 - val_accuracy: 0.9938 - val_precision: 0.6491 - val_recall: 0.0412 - val_auc: 0.9314 - val_f1_score: 0.0775\n",
      "Epoch 6/50\n",
      "696/696 [==============================] - 4s 6ms/step - loss: 0.0233 - accuracy: 0.9939 - precision: 0.6349 - recall: 0.0492 - auc: 0.9263 - f1_score: 0.0913 - val_loss: 0.0231 - val_accuracy: 0.9938 - val_precision: 0.6566 - val_recall: 0.0433 - val_auc: 0.9282 - val_f1_score: 0.0813\n",
      "Epoch 7/50\n",
      "696/696 [==============================] - 4s 6ms/step - loss: 0.0230 - accuracy: 0.9939 - precision: 0.6376 - recall: 0.0539 - auc: 0.9264 - f1_score: 0.0993 - val_loss: 0.0229 - val_accuracy: 0.9938 - val_precision: 0.6547 - val_recall: 0.0505 - val_auc: 0.9292 - val_f1_score: 0.0937\n",
      "Epoch 8/50\n",
      "696/696 [==============================] - 5s 8ms/step - loss: 0.0228 - accuracy: 0.9939 - precision: 0.6354 - recall: 0.0589 - auc: 0.9275 - f1_score: 0.1078 - val_loss: 0.0227 - val_accuracy: 0.9938 - val_precision: 0.6418 - val_recall: 0.0574 - val_auc: 0.9304 - val_f1_score: 0.1053\n",
      "Epoch 9/50\n",
      "696/696 [==============================] - 6s 9ms/step - loss: 0.0226 - accuracy: 0.9940 - precision: 0.6441 - recall: 0.0654 - auc: 0.9291 - f1_score: 0.1187 - val_loss: 0.0224 - val_accuracy: 0.9939 - val_precision: 0.6460 - val_recall: 0.0726 - val_auc: 0.9360 - val_f1_score: 0.1305\n",
      "Epoch 10/50\n",
      "696/696 [==============================] - 4s 6ms/step - loss: 0.0223 - accuracy: 0.9940 - precision: 0.6447 - recall: 0.0728 - auc: 0.9304 - f1_score: 0.1308 - val_loss: 0.0222 - val_accuracy: 0.9939 - val_precision: 0.6572 - val_recall: 0.0763 - val_auc: 0.9389 - val_f1_score: 0.1367\n",
      "Epoch 11/50\n",
      "696/696 [==============================] - 4s 6ms/step - loss: 0.0221 - accuracy: 0.9940 - precision: 0.6480 - recall: 0.0774 - auc: 0.9323 - f1_score: 0.1383 - val_loss: 0.0220 - val_accuracy: 0.9939 - val_precision: 0.6735 - val_recall: 0.0749 - val_auc: 0.9346 - val_f1_score: 0.1348\n",
      "Epoch 12/50\n",
      "696/696 [==============================] - 4s 6ms/step - loss: 0.0220 - accuracy: 0.9940 - precision: 0.6502 - recall: 0.0810 - auc: 0.9337 - f1_score: 0.1441 - val_loss: 0.0219 - val_accuracy: 0.9939 - val_precision: 0.6509 - val_recall: 0.0946 - val_auc: 0.9363 - val_f1_score: 0.1652\n",
      "Epoch 13/50\n",
      "696/696 [==============================] - 4s 6ms/step - loss: 0.0218 - accuracy: 0.9940 - precision: 0.6513 - recall: 0.0860 - auc: 0.9352 - f1_score: 0.1519 - val_loss: 0.0219 - val_accuracy: 0.9940 - val_precision: 0.6653 - val_recall: 0.0927 - val_auc: 0.9382 - val_f1_score: 0.1628\n",
      "Epoch 14/50\n",
      "696/696 [==============================] - 4s 6ms/step - loss: 0.0216 - accuracy: 0.9940 - precision: 0.6536 - recall: 0.0893 - auc: 0.9367 - f1_score: 0.1571 - val_loss: 0.0218 - val_accuracy: 0.9940 - val_precision: 0.6554 - val_recall: 0.0980 - val_auc: 0.9373 - val_f1_score: 0.1705\n",
      "Epoch 15/50\n",
      "696/696 [==============================] - 4s 6ms/step - loss: 0.0215 - accuracy: 0.9941 - precision: 0.6560 - recall: 0.0945 - auc: 0.9381 - f1_score: 0.1652 - val_loss: 0.0217 - val_accuracy: 0.9940 - val_precision: 0.6849 - val_recall: 0.0885 - val_auc: 0.9375 - val_f1_score: 0.1567\n",
      "Epoch 16/50\n",
      "696/696 [==============================] - 4s 6ms/step - loss: 0.0213 - accuracy: 0.9941 - precision: 0.6577 - recall: 0.0962 - auc: 0.9400 - f1_score: 0.1679 - val_loss: 0.0216 - val_accuracy: 0.9940 - val_precision: 0.6646 - val_recall: 0.1102 - val_auc: 0.9373 - val_f1_score: 0.1891\n",
      "Epoch 17/50\n",
      "696/696 [==============================] - 4s 6ms/step - loss: 0.0212 - accuracy: 0.9941 - precision: 0.6597 - recall: 0.1003 - auc: 0.9414 - f1_score: 0.1741 - val_loss: 0.0216 - val_accuracy: 0.9940 - val_precision: 0.6719 - val_recall: 0.1075 - val_auc: 0.9375 - val_f1_score: 0.1854\n",
      "Epoch 18/50\n",
      "696/696 [==============================] - 4s 6ms/step - loss: 0.0211 - accuracy: 0.9941 - precision: 0.6620 - recall: 0.1042 - auc: 0.9431 - f1_score: 0.1800 - val_loss: 0.0216 - val_accuracy: 0.9940 - val_precision: 0.6773 - val_recall: 0.1084 - val_auc: 0.9385 - val_f1_score: 0.1868\n",
      "Epoch 19/50\n",
      "696/696 [==============================] - 6s 8ms/step - loss: 0.0209 - accuracy: 0.9941 - precision: 0.6614 - recall: 0.1075 - auc: 0.9447 - f1_score: 0.1850 - val_loss: 0.0215 - val_accuracy: 0.9940 - val_precision: 0.6848 - val_recall: 0.1057 - val_auc: 0.9362 - val_f1_score: 0.1831\n",
      "Epoch 20/50\n",
      "696/696 [==============================] - 4s 6ms/step - loss: 0.0208 - accuracy: 0.9941 - precision: 0.6606 - recall: 0.1112 - auc: 0.9461 - f1_score: 0.1903 - val_loss: 0.0215 - val_accuracy: 0.9940 - val_precision: 0.6795 - val_recall: 0.1121 - val_auc: 0.9350 - val_f1_score: 0.1924\n",
      "Epoch 21/50\n",
      "696/696 [==============================] - 5s 7ms/step - loss: 0.0207 - accuracy: 0.9941 - precision: 0.6598 - recall: 0.1134 - auc: 0.9477 - f1_score: 0.1935 - val_loss: 0.0215 - val_accuracy: 0.9941 - val_precision: 0.6685 - val_recall: 0.1203 - val_auc: 0.9334 - val_f1_score: 0.2039\n",
      "Epoch 22/50\n",
      "696/696 [==============================] - 4s 6ms/step - loss: 0.0206 - accuracy: 0.9941 - precision: 0.6630 - recall: 0.1156 - auc: 0.9492 - f1_score: 0.1969 - val_loss: 0.0215 - val_accuracy: 0.9941 - val_precision: 0.6767 - val_recall: 0.1204 - val_auc: 0.9358 - val_f1_score: 0.2044\n",
      "Epoch 23/50\n",
      "696/696 [==============================] - 4s 6ms/step - loss: 0.0205 - accuracy: 0.9941 - precision: 0.6580 - recall: 0.1181 - auc: 0.9510 - f1_score: 0.2002 - val_loss: 0.0215 - val_accuracy: 0.9941 - val_precision: 0.6645 - val_recall: 0.1290 - val_auc: 0.9365 - val_f1_score: 0.2161\n",
      "Epoch 24/50\n",
      "696/696 [==============================] - 4s 6ms/step - loss: 0.0204 - accuracy: 0.9941 - precision: 0.6591 - recall: 0.1202 - auc: 0.9523 - f1_score: 0.2034 - val_loss: 0.0215 - val_accuracy: 0.9941 - val_precision: 0.6851 - val_recall: 0.1205 - val_auc: 0.9339 - val_f1_score: 0.2050\n",
      "Epoch 25/50\n",
      "696/696 [==============================] - 4s 6ms/step - loss: 0.0203 - accuracy: 0.9942 - precision: 0.6618 - recall: 0.1213 - auc: 0.9534 - f1_score: 0.2050 - val_loss: 0.0216 - val_accuracy: 0.9941 - val_precision: 0.6227 - val_recall: 0.1591 - val_auc: 0.9372 - val_f1_score: 0.2535\n",
      "Epoch 26/50\n",
      "696/696 [==============================] - 4s 6ms/step - loss: 0.0202 - accuracy: 0.9942 - precision: 0.6599 - recall: 0.1253 - auc: 0.9547 - f1_score: 0.2106 - val_loss: 0.0215 - val_accuracy: 0.9941 - val_precision: 0.6518 - val_recall: 0.1418 - val_auc: 0.9359 - val_f1_score: 0.2329\n",
      "Epoch 27/50\n",
      "696/696 [==============================] - 4s 6ms/step - loss: 0.0201 - accuracy: 0.9942 - precision: 0.6578 - recall: 0.1256 - auc: 0.9558 - f1_score: 0.2109 - val_loss: 0.0215 - val_accuracy: 0.9941 - val_precision: 0.6649 - val_recall: 0.1360 - val_auc: 0.9340 - val_f1_score: 0.2259\n",
      "Epoch 28/50\n",
      "696/696 [==============================] - 4s 6ms/step - loss: 0.0200 - accuracy: 0.9942 - precision: 0.6605 - recall: 0.1271 - auc: 0.9569 - f1_score: 0.2132 - val_loss: 0.0215 - val_accuracy: 0.9941 - val_precision: 0.6462 - val_recall: 0.1496 - val_auc: 0.9363 - val_f1_score: 0.2429\n",
      "Epoch 29/50\n",
      "696/696 [==============================] - 4s 5ms/step - loss: 0.0199 - accuracy: 0.9942 - precision: 0.6589 - recall: 0.1288 - auc: 0.9581 - f1_score: 0.2155 - val_loss: 0.0216 - val_accuracy: 0.9941 - val_precision: 0.6459 - val_recall: 0.1526 - val_auc: 0.9376 - val_f1_score: 0.2469\n",
      "Epoch 30/50\n",
      "696/696 [==============================] - 4s 6ms/step - loss: 0.0199 - accuracy: 0.9942 - precision: 0.6595 - recall: 0.1303 - auc: 0.9586 - f1_score: 0.2176 - val_loss: 0.0216 - val_accuracy: 0.9941 - val_precision: 0.6605 - val_recall: 0.1384 - val_auc: 0.9366 - val_f1_score: 0.2288\n",
      "Epoch 31/50\n",
      "696/696 [==============================] - 4s 6ms/step - loss: 0.0198 - accuracy: 0.9942 - precision: 0.6601 - recall: 0.1309 - auc: 0.9598 - f1_score: 0.2184 - val_loss: 0.0217 - val_accuracy: 0.9941 - val_precision: 0.6110 - val_recall: 0.1738 - val_auc: 0.9331 - val_f1_score: 0.2706\n",
      "Epoch 32/50\n",
      "696/696 [==============================] - 4s 6ms/step - loss: 0.0197 - accuracy: 0.9942 - precision: 0.6573 - recall: 0.1333 - auc: 0.9604 - f1_score: 0.2217 - val_loss: 0.0216 - val_accuracy: 0.9941 - val_precision: 0.6623 - val_recall: 0.1394 - val_auc: 0.9332 - val_f1_score: 0.2304\n",
      "Epoch 33/50\n",
      "696/696 [==============================] - 4s 6ms/step - loss: 0.0196 - accuracy: 0.9942 - precision: 0.6629 - recall: 0.1342 - auc: 0.9612 - f1_score: 0.2232 - val_loss: 0.0217 - val_accuracy: 0.9941 - val_precision: 0.6566 - val_recall: 0.1443 - val_auc: 0.9328 - val_f1_score: 0.2367\n",
      "Epoch 34/50\n",
      "696/696 [==============================] - 4s 6ms/step - loss: 0.0196 - accuracy: 0.9942 - precision: 0.6605 - recall: 0.1347 - auc: 0.9619 - f1_score: 0.2238 - val_loss: 0.0217 - val_accuracy: 0.9941 - val_precision: 0.6606 - val_recall: 0.1467 - val_auc: 0.9336 - val_f1_score: 0.2401\n",
      "Epoch 35/50\n",
      "696/696 [==============================] - 4s 6ms/step - loss: 0.0195 - accuracy: 0.9942 - precision: 0.6581 - recall: 0.1352 - auc: 0.9626 - f1_score: 0.2244 - val_loss: 0.0218 - val_accuracy: 0.9941 - val_precision: 0.6474 - val_recall: 0.1485 - val_auc: 0.9347 - val_f1_score: 0.2416\n",
      "Epoch 36/50\n",
      "696/696 [==============================] - 4s 6ms/step - loss: 0.0194 - accuracy: 0.9942 - precision: 0.6597 - recall: 0.1369 - auc: 0.9634 - f1_score: 0.2268 - val_loss: 0.0219 - val_accuracy: 0.9941 - val_precision: 0.6517 - val_recall: 0.1475 - val_auc: 0.9326 - val_f1_score: 0.2406\n",
      "Epoch 37/50\n",
      "696/696 [==============================] - 4s 6ms/step - loss: 0.0194 - accuracy: 0.9942 - precision: 0.6616 - recall: 0.1374 - auc: 0.9638 - f1_score: 0.2276 - val_loss: 0.0219 - val_accuracy: 0.9941 - val_precision: 0.6568 - val_recall: 0.1438 - val_auc: 0.9332 - val_f1_score: 0.2359\n",
      "Epoch 38/50\n",
      "696/696 [==============================] - 4s 6ms/step - loss: 0.0193 - accuracy: 0.9942 - precision: 0.6592 - recall: 0.1394 - auc: 0.9644 - f1_score: 0.2302 - val_loss: 0.0219 - val_accuracy: 0.9941 - val_precision: 0.6545 - val_recall: 0.1479 - val_auc: 0.9300 - val_f1_score: 0.2412\n",
      "Epoch 39/50\n",
      "696/696 [==============================] - 4s 5ms/step - loss: 0.0192 - accuracy: 0.9942 - precision: 0.6613 - recall: 0.1407 - auc: 0.9648 - f1_score: 0.2320 - val_loss: 0.0219 - val_accuracy: 0.9941 - val_precision: 0.6621 - val_recall: 0.1419 - val_auc: 0.9317 - val_f1_score: 0.2338\n",
      "Epoch 40/50\n",
      "696/696 [==============================] - 4s 6ms/step - loss: 0.0192 - accuracy: 0.9942 - precision: 0.6615 - recall: 0.1411 - auc: 0.9653 - f1_score: 0.2326 - val_loss: 0.0219 - val_accuracy: 0.9941 - val_precision: 0.6520 - val_recall: 0.1509 - val_auc: 0.9318 - val_f1_score: 0.2451\n",
      "Epoch 41/50\n",
      "696/696 [==============================] - 4s 6ms/step - loss: 0.0191 - accuracy: 0.9942 - precision: 0.6602 - recall: 0.1426 - auc: 0.9657 - f1_score: 0.2345 - val_loss: 0.0220 - val_accuracy: 0.9941 - val_precision: 0.6203 - val_recall: 0.1708 - val_auc: 0.9336 - val_f1_score: 0.2678\n",
      "Epoch 42/50\n",
      "696/696 [==============================] - 4s 6ms/step - loss: 0.0191 - accuracy: 0.9942 - precision: 0.6603 - recall: 0.1429 - auc: 0.9661 - f1_score: 0.2349 - val_loss: 0.0220 - val_accuracy: 0.9941 - val_precision: 0.6453 - val_recall: 0.1535 - val_auc: 0.9297 - val_f1_score: 0.2480\n",
      "Epoch 43/50\n",
      "696/696 [==============================] - 4s 6ms/step - loss: 0.0190 - accuracy: 0.9942 - precision: 0.6603 - recall: 0.1440 - auc: 0.9667 - f1_score: 0.2364 - val_loss: 0.0221 - val_accuracy: 0.9941 - val_precision: 0.6368 - val_recall: 0.1608 - val_auc: 0.9306 - val_f1_score: 0.2568\n",
      "Epoch 44/50\n",
      "696/696 [==============================] - 4s 6ms/step - loss: 0.0190 - accuracy: 0.9942 - precision: 0.6625 - recall: 0.1453 - auc: 0.9670 - f1_score: 0.2383 - val_loss: 0.0222 - val_accuracy: 0.9941 - val_precision: 0.6366 - val_recall: 0.1575 - val_auc: 0.9280 - val_f1_score: 0.2526\n",
      "Epoch 45/50\n",
      "696/696 [==============================] - 4s 6ms/step - loss: 0.0189 - accuracy: 0.9942 - precision: 0.6592 - recall: 0.1458 - auc: 0.9674 - f1_score: 0.2388 - val_loss: 0.0221 - val_accuracy: 0.9941 - val_precision: 0.6539 - val_recall: 0.1433 - val_auc: 0.9299 - val_f1_score: 0.2351\n",
      "Epoch 46/50\n",
      "696/696 [==============================] - 4s 6ms/step - loss: 0.0189 - accuracy: 0.9942 - precision: 0.6614 - recall: 0.1453 - auc: 0.9676 - f1_score: 0.2383 - val_loss: 0.0222 - val_accuracy: 0.9941 - val_precision: 0.6276 - val_recall: 0.1699 - val_auc: 0.9306 - val_f1_score: 0.2674\n",
      "Epoch 47/50\n",
      "696/696 [==============================] - 4s 6ms/step - loss: 0.0188 - accuracy: 0.9942 - precision: 0.6615 - recall: 0.1480 - auc: 0.9679 - f1_score: 0.2419 - val_loss: 0.0222 - val_accuracy: 0.9941 - val_precision: 0.6377 - val_recall: 0.1594 - val_auc: 0.9294 - val_f1_score: 0.2551\n",
      "Epoch 48/50\n",
      "696/696 [==============================] - 4s 6ms/step - loss: 0.0188 - accuracy: 0.9942 - precision: 0.6615 - recall: 0.1466 - auc: 0.9682 - f1_score: 0.2400 - val_loss: 0.0222 - val_accuracy: 0.9941 - val_precision: 0.6395 - val_recall: 0.1564 - val_auc: 0.9297 - val_f1_score: 0.2513\n",
      "Epoch 49/50\n",
      "696/696 [==============================] - 4s 6ms/step - loss: 0.0187 - accuracy: 0.9942 - precision: 0.6632 - recall: 0.1488 - auc: 0.9686 - f1_score: 0.2431 - val_loss: 0.0224 - val_accuracy: 0.9941 - val_precision: 0.6558 - val_recall: 0.1439 - val_auc: 0.9257 - val_f1_score: 0.2360\n",
      "Epoch 50/50\n",
      "696/696 [==============================] - 4s 6ms/step - loss: 0.0187 - accuracy: 0.9942 - precision: 0.6638 - recall: 0.1497 - auc: 0.9689 - f1_score: 0.2443 - val_loss: 0.0223 - val_accuracy: 0.9941 - val_precision: 0.6465 - val_recall: 0.1517 - val_auc: 0.9299 - val_f1_score: 0.2458\n"
     ]
    },
    {
     "data": {
      "text/plain": [
       "<keras.src.callbacks.History at 0x1e63cbfbc90>"
      ]
     },
     "execution_count": 50,
     "metadata": {},
     "output_type": "execute_result"
    }
   ],
   "source": [
    "model.fit(X_train, A_train, epochs=50, batch_size=10, validation_split=0.1)"
   ]
  },
  {
   "cell_type": "code",
   "execution_count": 51,
   "id": "6e54ad40",
   "metadata": {},
   "outputs": [
    {
     "name": "stdout",
     "output_type": "stream",
     "text": [
      "81/81 [==============================] - 1s 12ms/step - loss: 0.0234 - accuracy: 0.9939 - precision: 0.6342 - recall: 0.1360 - auc: 0.9260 - f1_score: 0.2240\n",
      "Test Loss: 0.0233688335865736, Test Accuracy: 0.9939163327217102\n"
     ]
    }
   ],
   "source": [
    "loss, accuracy, _, _, _, _ = model.evaluate(X_test, A_test)\n",
    "print(f\"Test Loss: {loss}, Test Accuracy: {accuracy}\")"
   ]
  },
  {
   "cell_type": "code",
   "execution_count": null,
   "id": "e2d5fd13",
   "metadata": {},
   "outputs": [],
   "source": []
  }
 ],
 "metadata": {
  "kernelspec": {
   "display_name": "Python 3 (ipykernel)",
   "language": "python",
   "name": "python3"
  },
  "language_info": {
   "codemirror_mode": {
    "name": "ipython",
    "version": 3
   },
   "file_extension": ".py",
   "mimetype": "text/x-python",
   "name": "python",
   "nbconvert_exporter": "python",
   "pygments_lexer": "ipython3",
   "version": "3.11.5"
  }
 },
 "nbformat": 4,
 "nbformat_minor": 5
}
