{
 "cells": [
  {
   "cell_type": "code",
   "execution_count": 1,
   "id": "533fb68c-b771-4c76-abe9-1fed9dd14ee4",
   "metadata": {
    "tags": []
   },
   "outputs": [],
   "source": [
    "import tensorflow as tf\n",
    "from tensorflow.keras.models import Sequential\n",
    "from tensorflow.keras.layers import Dense\n",
    "from sklearn.model_selection import train_test_split\n",
    "import numpy as np\n",
    "from tensorflow.keras.metrics import BinaryAccuracy, Precision, Recall, AUC"
   ]
  },
  {
   "cell_type": "code",
   "execution_count": 2,
   "id": "ab63d9e2-16e4-4266-b08c-e402832b761b",
   "metadata": {
    "tags": []
   },
   "outputs": [],
   "source": [
    "from scipy.io import loadmat\n",
    "from scipy.io import savemat\n",
    "from sklearn.svm import SVC\n",
    "from sklearn.svm import LinearSVC\n",
    "from scipy.spatial.distance import squareform\n",
    "from scipy.spatial.distance import pdist\n",
    "from scipy.spatial.distance import cdist"
   ]
  },
  {
   "cell_type": "code",
   "execution_count": 3,
   "id": "609d644c-2637-4e14-9fd7-60ffbdc0592c",
   "metadata": {
    "tags": []
   },
   "outputs": [
    {
     "name": "stdout",
     "output_type": "stream",
     "text": [
      "<class 'numpy.ndarray'>\n",
      "[[1. 0.]\n",
      " [1. 0.]\n",
      " [1. 0.]\n",
      " [1. 1.]\n",
      " [1. 0.]]\n",
      "[[0. 0. 0. 0. 0.]\n",
      " [0. 0. 0. 0. 0.]\n",
      " [0. 0. 0. 0. 0.]\n",
      " [0. 0. 0. 0. 0.]\n",
      " [0. 0. 0. 0. 0.]]\n"
     ]
    }
   ],
   "source": [
    "mat = loadmat('./results_dblp_2.mat')\n",
    "features_matrix = mat['embs']\n",
    "#print(type(features_matrix))\n",
    "#print(features_matrix[:10,:10])\n",
    "\n",
    "mat = loadmat(\"../data/dblp.mat\")\n",
    "A = mat[\"network\"]\n",
    "#graph = sparse2graph(A)\n",
    "labels_matrix = mat[\"group\"]\n",
    "labels_count = labels_matrix.shape[1]\n",
    "\n",
    "#print(labels_matrix)\n",
    "\n",
    "#print(type(labels_matrix))\n",
    "\n",
    "groups = labels_matrix.toarray()\n",
    "A = A.toarray()\n",
    "X = features_matrix\n",
    "print(type(groups[:5, :5]))\n",
    "print(groups[:5, :5])\n",
    "print(A[:5, :5])"
   ]
  },
  {
   "cell_type": "code",
   "execution_count": 4,
   "id": "6f049347-795e-4eb7-a38c-33a996116c11",
   "metadata": {
    "tags": []
   },
   "outputs": [
    {
     "name": "stdout",
     "output_type": "stream",
     "text": [
      "[4.779e+03 2.000e+00 4.160e+02 4.779e+03 2.000e+00 4.160e+02 4.779e+03\n",
      " 4.779e+03 4.779e+03 4.779e+03 3.498e+03 4.779e+03 3.497e+03 2.000e+00\n",
      " 4.779e+03 4.779e+03 4.779e+03 4.160e+02 3.497e+03 4.779e+03 4.779e+03\n",
      " 2.000e+00 3.498e+03 3.498e+03 3.497e+03 4.160e+02 4.779e+03 4.779e+03\n",
      " 2.000e+00 2.000e+00 4.779e+03 4.779e+03 2.000e+00 2.000e+00 4.779e+03\n",
      " 4.160e+02 3.497e+03 2.000e+00 2.000e+00 4.160e+02 2.000e+00 4.779e+03\n",
      " 2.000e+00 3.498e+03 4.779e+03 4.779e+03 4.160e+02 4.779e+03 4.160e+02\n",
      " 2.000e+00 2.000e+00 3.497e+03 4.779e+03 2.000e+00 4.779e+03 4.779e+03\n",
      " 4.779e+03 4.779e+03 4.779e+03 4.779e+03 3.498e+03 4.779e+03 4.779e+03\n",
      " 4.779e+03 4.160e+02 3.497e+03 4.779e+03 2.000e+00 4.779e+03 4.779e+03\n",
      " 4.779e+03 2.000e+00 4.779e+03 4.779e+03 2.000e+00 3.498e+03 4.779e+03\n",
      " 4.779e+03 4.779e+03 2.000e+00 2.000e+00 4.160e+02 2.000e+00 4.779e+03\n",
      " 4.779e+03 3.497e+03 3.498e+03 4.779e+03 4.160e+02 2.000e+00 3.498e+03\n",
      " 4.779e+03 4.779e+03 4.779e+03 4.779e+03 4.779e+03 4.160e+02 4.779e+03\n",
      " 4.160e+02 4.779e+03 4.779e+03 4.160e+02 3.498e+03 2.000e+00 4.779e+03\n",
      " 2.000e+00 3.498e+03 4.160e+02 4.779e+03 4.779e+03 4.160e+02 4.779e+03\n",
      " 4.779e+03 4.779e+03 2.000e+00 2.000e+00 4.779e+03 4.779e+03 3.497e+03\n",
      " 4.779e+03 3.497e+03 4.779e+03 4.779e+03 3.497e+03 4.779e+03 2.000e+00\n",
      " 3.498e+03 3.498e+03]\n",
      "[1. 0.]\n",
      "[[0. 0. 0. ... 0. 0. 0.]\n",
      " [0. 0. 0. ... 0. 0. 0.]\n",
      " [0. 0. 0. ... 0. 0. 0.]\n",
      " ...\n",
      " [0. 0. 0. ... 0. 0. 0.]\n",
      " [0. 0. 0. ... 0. 0. 0.]\n",
      " [0. 0. 0. ... 0. 0. 0.]]\n"
     ]
    }
   ],
   "source": [
    "# Number of nodes\n",
    "num_nodes = 13326\n",
    "\n",
    "# Number of features per node\n",
    "num_features = 128\n",
    "\n",
    "# Generate random features\n",
    "#X = np.random.rand(num_nodes, num_features)\n",
    "\n",
    "print(X[1, :])\n",
    "print(groups[1, :])\n",
    "\n",
    "# Generate a random adjacency matrix\n",
    "#A = np.random.randint(2, size=(num_nodes, num_nodes))\n",
    "\n",
    "print(A)\n"
   ]
  },
  {
   "cell_type": "code",
   "execution_count": 5,
   "id": "110e9fda-27a4-41c7-9ccf-9ea2c449ccb6",
   "metadata": {
    "tags": []
   },
   "outputs": [],
   "source": [
    "X_train, X_test, A_train, A_test = train_test_split(X, A, test_size=0.25, random_state=2137)"
   ]
  },
  {
   "cell_type": "code",
   "execution_count": 6,
   "id": "614294b5-a5b3-4beb-8af4-9b43559687d4",
   "metadata": {
    "tags": []
   },
   "outputs": [],
   "source": [
    "from tensorflow.keras.metrics import Metric, Precision, Recall\n",
    "\n",
    "class F1Score(Metric):\n",
    "    def __init__(self, name='f1_score', **kwargs):\n",
    "        super(F1Score, self).__init__(name=name, **kwargs)\n",
    "        self.precision = Precision()\n",
    "        self.recall = Recall()\n",
    "        self.f1_score = self.add_weight(name=\"f1\", initializer=\"zeros\")\n",
    "\n",
    "    def update_state(self, y_true, y_pred, sample_weight=None):\n",
    "        self.precision.update_state(y_true, y_pred, sample_weight)\n",
    "        self.recall.update_state(y_true, y_pred, sample_weight)\n",
    "        p = self.precision.result()\n",
    "        r = self.recall.result()\n",
    "        self.f1_score.assign(2 * ((p * r) / (p + r + 1e-6)))  # Added a small epsilon to avoid division by zero\n",
    "\n",
    "    def result(self):\n",
    "        return self.f1_score\n",
    "\n",
    "    def reset_state(self):\n",
    "        self.precision.reset_states()\n",
    "        self.recall.reset_states()\n",
    "        self.f1_score.assign(0)\n"
   ]
  },
  {
   "cell_type": "code",
   "execution_count": 7,
   "id": "fc9e3ed1-28b1-46b8-be59-3628a9b627f4",
   "metadata": {
    "tags": []
   },
   "outputs": [],
   "source": [
    "model = Sequential([\n",
    "    Dense(64, activation='relu', input_dim=num_features),\n",
    "    Dense(64, activation='relu'),\n",
    "    Dense(num_nodes, activation='sigmoid')  # Output layer\n",
    "])"
   ]
  },
  {
   "cell_type": "code",
   "execution_count": 8,
   "id": "6f157f03-196f-4f22-b69d-9805caad4cee",
   "metadata": {
    "tags": []
   },
   "outputs": [],
   "source": [
    "model.compile(optimizer='adam', loss='binary_crossentropy', metrics=[\n",
    "        BinaryAccuracy(name='accuracy'),\n",
    "        Precision(name='precision'),\n",
    "        Recall(name='recall'),\n",
    "        AUC(name='auc'),\n",
    "        F1Score()\n",
    "    ])"
   ]
  },
  {
   "cell_type": "code",
   "execution_count": 25,
   "id": "5e79d765-1a15-4b90-b5fc-5fba1fd82684",
   "metadata": {
    "tags": []
   },
   "outputs": [
    {
     "name": "stdout",
     "output_type": "stream",
     "text": [
      "Epoch 1/50\n",
      "900/900 [==============================] - 7s 7ms/step - loss: 0.3756 - accuracy: 0.9972 - precision: 8.3467e-04 - recall: 0.0051 - auc: 0.5015 - f1_score: 0.0014 - val_loss: 0.0192 - val_accuracy: 0.9990 - val_precision: 0.0014 - val_recall: 0.0021 - val_auc: 0.4972 - val_f1_score: 0.0017\n",
      "Epoch 2/50\n",
      "900/900 [==============================] - 6s 6ms/step - loss: 0.0170 - accuracy: 0.9993 - precision: 0.0029 - recall: 0.0022 - auc: 0.5022 - f1_score: 0.0025 - val_loss: 0.0145 - val_accuracy: 0.9996 - val_precision: 0.0248 - val_recall: 7.7384e-04 - val_auc: 0.4993 - val_f1_score: 0.0015\n",
      "Epoch 3/50\n",
      "900/900 [==============================] - 6s 7ms/step - loss: 0.0105 - accuracy: 0.9995 - precision: 0.0132 - recall: 0.0025 - auc: 0.5045 - f1_score: 0.0041 - val_loss: 0.0113 - val_accuracy: 0.9995 - val_precision: 0.0053 - val_recall: 0.0012 - val_auc: 0.5054 - val_f1_score: 0.0019\n",
      "Epoch 4/50\n",
      "900/900 [==============================] - 6s 7ms/step - loss: 0.0089 - accuracy: 0.9996 - precision: 0.0372 - recall: 0.0036 - auc: 0.5053 - f1_score: 0.0066 - val_loss: 0.0095 - val_accuracy: 0.9995 - val_precision: 0.0047 - val_recall: 7.7384e-04 - val_auc: 0.4978 - val_f1_score: 0.0013\n",
      "Epoch 5/50\n",
      "900/900 [==============================] - 6s 7ms/step - loss: 0.0085 - accuracy: 0.9996 - precision: 0.0499 - recall: 0.0041 - auc: 0.5039 - f1_score: 0.0076 - val_loss: 0.0090 - val_accuracy: 0.9996 - val_precision: 0.0206 - val_recall: 0.0012 - val_auc: 0.5001 - val_f1_score: 0.0022\n",
      "Epoch 6/50\n",
      "900/900 [==============================] - 6s 7ms/step - loss: 0.0077 - accuracy: 0.9996 - precision: 0.0783 - recall: 0.0044 - auc: 0.5044 - f1_score: 0.0083 - val_loss: 0.0092 - val_accuracy: 0.9996 - val_precision: 0.0098 - val_recall: 9.6731e-04 - val_auc: 0.5032 - val_f1_score: 0.0018\n",
      "Epoch 7/50\n",
      "900/900 [==============================] - 6s 7ms/step - loss: 0.0073 - accuracy: 0.9996 - precision: 0.0876 - recall: 0.0043 - auc: 0.5047 - f1_score: 0.0081 - val_loss: 0.0082 - val_accuracy: 0.9996 - val_precision: 0.0158 - val_recall: 9.6731e-04 - val_auc: 0.5018 - val_f1_score: 0.0018\n",
      "Epoch 8/50\n",
      "900/900 [==============================] - 6s 7ms/step - loss: 0.0070 - accuracy: 0.9996 - precision: 0.0898 - recall: 0.0033 - auc: 0.5029 - f1_score: 0.0065 - val_loss: 0.0084 - val_accuracy: 0.9996 - val_precision: 0.0500 - val_recall: 5.8038e-04 - val_auc: 0.4976 - val_f1_score: 0.0011\n",
      "Epoch 9/50\n",
      "900/900 [==============================] - 6s 7ms/step - loss: 0.0067 - accuracy: 0.9996 - precision: 0.0977 - recall: 0.0034 - auc: 0.5033 - f1_score: 0.0066 - val_loss: 0.0074 - val_accuracy: 0.9996 - val_precision: 0.0189 - val_recall: 7.7384e-04 - val_auc: 0.4999 - val_f1_score: 0.0015\n",
      "Epoch 10/50\n",
      "900/900 [==============================] - 6s 6ms/step - loss: 0.0064 - accuracy: 0.9996 - precision: 0.0725 - recall: 0.0018 - auc: 0.5024 - f1_score: 0.0035 - val_loss: 0.0073 - val_accuracy: 0.9996 - val_precision: 0.0400 - val_recall: 0.0014 - val_auc: 0.4975 - val_f1_score: 0.0026\n",
      "Epoch 11/50\n",
      "900/900 [==============================] - 6s 6ms/step - loss: 0.0062 - accuracy: 0.9996 - precision: 0.1048 - recall: 0.0016 - auc: 0.5032 - f1_score: 0.0031 - val_loss: 0.0071 - val_accuracy: 0.9996 - val_precision: 0.0938 - val_recall: 5.8038e-04 - val_auc: 0.5001 - val_f1_score: 0.0012\n",
      "Epoch 12/50\n",
      "900/900 [==============================] - 6s 6ms/step - loss: 0.0059 - accuracy: 0.9996 - precision: 0.1216 - recall: 0.0013 - auc: 0.5039 - f1_score: 0.0026 - val_loss: 0.0070 - val_accuracy: 0.9996 - val_precision: 0.1111 - val_recall: 5.8038e-04 - val_auc: 0.4974 - val_f1_score: 0.0012\n",
      "Epoch 13/50\n",
      "900/900 [==============================] - 6s 6ms/step - loss: 0.0057 - accuracy: 0.9996 - precision: 0.2305 - recall: 0.0013 - auc: 0.5044 - f1_score: 0.0025 - val_loss: 0.0070 - val_accuracy: 0.9996 - val_precision: 0.0345 - val_recall: 3.8692e-04 - val_auc: 0.4986 - val_f1_score: 7.6524e-04\n",
      "Epoch 14/50\n",
      "900/900 [==============================] - 6s 6ms/step - loss: 0.0055 - accuracy: 0.9996 - precision: 0.1293 - recall: 9.7131e-04 - auc: 0.5054 - f1_score: 0.0019 - val_loss: 0.0065 - val_accuracy: 0.9996 - val_precision: 0.0000e+00 - val_recall: 0.0000e+00 - val_auc: 0.4996 - val_f1_score: 0.0000e+00\n",
      "Epoch 15/50\n",
      "900/900 [==============================] - 6s 7ms/step - loss: 0.0053 - accuracy: 0.9996 - precision: 0.2917 - recall: 0.0017 - auc: 0.5050 - f1_score: 0.0033 - val_loss: 0.0064 - val_accuracy: 0.9996 - val_precision: 0.0000e+00 - val_recall: 0.0000e+00 - val_auc: 0.5014 - val_f1_score: 0.0000e+00\n",
      "Epoch 16/50\n",
      "900/900 [==============================] - 6s 6ms/step - loss: 0.0051 - accuracy: 0.9996 - precision: 0.2669 - recall: 0.0014 - auc: 0.5057 - f1_score: 0.0027 - val_loss: 0.0063 - val_accuracy: 0.9996 - val_precision: 0.0357 - val_recall: 3.8692e-04 - val_auc: 0.5025 - val_f1_score: 7.6553e-04\n",
      "Epoch 17/50\n",
      "900/900 [==============================] - 6s 6ms/step - loss: 0.0050 - accuracy: 0.9996 - precision: 0.2417 - recall: 0.0016 - auc: 0.5085 - f1_score: 0.0031 - val_loss: 0.0060 - val_accuracy: 0.9996 - val_precision: 0.0000e+00 - val_recall: 0.0000e+00 - val_auc: 0.5045 - val_f1_score: 0.0000e+00\n",
      "Epoch 18/50\n",
      "900/900 [==============================] - 6s 7ms/step - loss: 0.0049 - accuracy: 0.9996 - precision: 0.3874 - recall: 0.0016 - auc: 0.5102 - f1_score: 0.0032 - val_loss: 0.0061 - val_accuracy: 0.9996 - val_precision: 0.0370 - val_recall: 1.9346e-04 - val_auc: 0.5067 - val_f1_score: 3.8490e-04\n",
      "Epoch 19/50\n",
      "900/900 [==============================] - 6s 7ms/step - loss: 0.0048 - accuracy: 0.9996 - precision: 0.3390 - recall: 0.0013 - auc: 0.5094 - f1_score: 0.0026 - val_loss: 0.0056 - val_accuracy: 0.9996 - val_precision: 0.1026 - val_recall: 7.7384e-04 - val_auc: 0.5065 - val_f1_score: 0.0015\n",
      "Epoch 20/50\n",
      "900/900 [==============================] - 6s 6ms/step - loss: 0.0046 - accuracy: 0.9996 - precision: 0.4286 - recall: 0.0016 - auc: 0.5101 - f1_score: 0.0031 - val_loss: 0.0055 - val_accuracy: 0.9996 - val_precision: 0.0000e+00 - val_recall: 0.0000e+00 - val_auc: 0.5042 - val_f1_score: 0.0000e+00\n",
      "Epoch 21/50\n",
      "900/900 [==============================] - 6s 6ms/step - loss: 0.0083 - accuracy: 0.9996 - precision: 0.0157 - recall: 2.3743e-04 - auc: 0.5144 - f1_score: 4.6776e-04 - val_loss: 0.0058 - val_accuracy: 0.9996 - val_precision: 0.0000e+00 - val_recall: 0.0000e+00 - val_auc: 0.5028 - val_f1_score: 0.0000e+00\n",
      "Epoch 22/50\n",
      "900/900 [==============================] - 6s 6ms/step - loss: 0.0044 - accuracy: 0.9996 - precision: 0.3889 - recall: 4.5328e-04 - auc: 0.5111 - f1_score: 9.0550e-04 - val_loss: 0.0053 - val_accuracy: 0.9996 - val_precision: 0.0000e+00 - val_recall: 0.0000e+00 - val_auc: 0.5053 - val_f1_score: 0.0000e+00\n",
      "Epoch 23/50\n",
      "900/900 [==============================] - 6s 6ms/step - loss: 0.0043 - accuracy: 0.9996 - precision: 0.2143 - recall: 3.8853e-04 - auc: 0.5100 - f1_score: 7.7564e-04 - val_loss: 0.0053 - val_accuracy: 0.9996 - val_precision: 0.0000e+00 - val_recall: 0.0000e+00 - val_auc: 0.5054 - val_f1_score: 0.0000e+00\n",
      "Epoch 24/50\n",
      "900/900 [==============================] - 6s 6ms/step - loss: 0.0042 - accuracy: 0.9996 - precision: 0.2812 - recall: 7.7705e-04 - auc: 0.5129 - f1_score: 0.0015 - val_loss: 0.0051 - val_accuracy: 0.9996 - val_precision: 0.0000e+00 - val_recall: 0.0000e+00 - val_auc: 0.5048 - val_f1_score: 0.0000e+00\n",
      "Epoch 25/50\n",
      "900/900 [==============================] - 6s 7ms/step - loss: 0.0041 - accuracy: 0.9996 - precision: 0.2656 - recall: 7.3388e-04 - auc: 0.5144 - f1_score: 0.0015 - val_loss: 0.0051 - val_accuracy: 0.9996 - val_precision: 0.0000e+00 - val_recall: 0.0000e+00 - val_auc: 0.5061 - val_f1_score: 0.0000e+00\n",
      "Epoch 26/50\n",
      "900/900 [==============================] - 6s 6ms/step - loss: 0.0040 - accuracy: 0.9996 - precision: 0.3577 - recall: 0.0011 - auc: 0.5151 - f1_score: 0.0021 - val_loss: 0.0047 - val_accuracy: 0.9996 - val_precision: 0.0000e+00 - val_recall: 0.0000e+00 - val_auc: 0.5111 - val_f1_score: 0.0000e+00\n",
      "Epoch 27/50\n",
      "900/900 [==============================] - 6s 6ms/step - loss: 0.0040 - accuracy: 0.9996 - precision: 0.6133 - recall: 9.9290e-04 - auc: 0.5163 - f1_score: 0.0020 - val_loss: 0.0068 - val_accuracy: 0.9996 - val_precision: 0.0015 - val_recall: 1.9346e-04 - val_auc: 0.5213 - val_f1_score: 3.4374e-04\n",
      "Epoch 28/50\n",
      "900/900 [==============================] - 6s 6ms/step - loss: 0.0039 - accuracy: 0.9996 - precision: 0.3469 - recall: 7.3388e-04 - auc: 0.5173 - f1_score: 0.0015 - val_loss: 0.0046 - val_accuracy: 0.9996 - val_precision: 0.0000e+00 - val_recall: 0.0000e+00 - val_auc: 0.5077 - val_f1_score: 0.0000e+00\n",
      "Epoch 29/50\n",
      "900/900 [==============================] - 6s 6ms/step - loss: 0.0038 - accuracy: 0.9996 - precision: 0.4000 - recall: 7.7705e-04 - auc: 0.5197 - f1_score: 0.0016 - val_loss: 0.0045 - val_accuracy: 0.9996 - val_precision: 0.0000e+00 - val_recall: 0.0000e+00 - val_auc: 0.5089 - val_f1_score: 0.0000e+00\n",
      "Epoch 30/50\n",
      "900/900 [==============================] - 6s 6ms/step - loss: 0.0037 - accuracy: 0.9996 - precision: 0.4943 - recall: 9.2814e-04 - auc: 0.5180 - f1_score: 0.0019 - val_loss: 0.0042 - val_accuracy: 0.9996 - val_precision: 0.0000e+00 - val_recall: 0.0000e+00 - val_auc: 0.5094 - val_f1_score: 0.0000e+00\n",
      "Epoch 31/50\n",
      "900/900 [==============================] - 6s 6ms/step - loss: 0.0037 - accuracy: 0.9996 - precision: 0.2929 - recall: 6.2596e-04 - auc: 0.5161 - f1_score: 0.0012 - val_loss: 0.0041 - val_accuracy: 0.9996 - val_precision: 0.0270 - val_recall: 7.7384e-04 - val_auc: 0.5146 - val_f1_score: 0.0015\n",
      "Epoch 32/50\n",
      "900/900 [==============================] - 6s 6ms/step - loss: 0.0036 - accuracy: 0.9996 - precision: 0.6190 - recall: 5.6120e-04 - auc: 0.5158 - f1_score: 0.0011 - val_loss: 0.0039 - val_accuracy: 0.9996 - val_precision: 0.5000 - val_recall: 7.7384e-04 - val_auc: 0.5117 - val_f1_score: 0.0015\n",
      "Epoch 33/50\n",
      "900/900 [==============================] - 6s 6ms/step - loss: 0.0035 - accuracy: 0.9996 - precision: 0.5319 - recall: 5.3962e-04 - auc: 0.5137 - f1_score: 0.0011 - val_loss: 0.0038 - val_accuracy: 0.9996 - val_precision: 0.5556 - val_recall: 9.6731e-04 - val_auc: 0.5099 - val_f1_score: 0.0019\n",
      "Epoch 34/50\n",
      "900/900 [==============================] - 6s 6ms/step - loss: 0.0035 - accuracy: 0.9996 - precision: 0.8333 - recall: 5.3962e-04 - auc: 0.5110 - f1_score: 0.0011 - val_loss: 0.0037 - val_accuracy: 0.9996 - val_precision: 0.4286 - val_recall: 5.8038e-04 - val_auc: 0.5064 - val_f1_score: 0.0012\n",
      "Epoch 35/50\n",
      "900/900 [==============================] - 6s 6ms/step - loss: 0.0034 - accuracy: 0.9996 - precision: 0.7234 - recall: 7.3388e-04 - auc: 0.5092 - f1_score: 0.0015 - val_loss: 0.0038 - val_accuracy: 0.9996 - val_precision: 0.4545 - val_recall: 9.6731e-04 - val_auc: 0.5049 - val_f1_score: 0.0019\n",
      "Epoch 36/50\n",
      "900/900 [==============================] - 6s 6ms/step - loss: 0.0034 - accuracy: 0.9996 - precision: 0.5833 - recall: 7.5547e-04 - auc: 0.5079 - f1_score: 0.0015 - val_loss: 0.0039 - val_accuracy: 0.9996 - val_precision: 0.1250 - val_recall: 5.8038e-04 - val_auc: 0.5124 - val_f1_score: 0.0012\n",
      "Epoch 37/50\n",
      "900/900 [==============================] - 6s 6ms/step - loss: 0.0034 - accuracy: 0.9996 - precision: 0.5366 - recall: 4.7486e-04 - auc: 0.5047 - f1_score: 9.4889e-04 - val_loss: 0.0035 - val_accuracy: 0.9996 - val_precision: 0.0000e+00 - val_recall: 0.0000e+00 - val_auc: 0.5035 - val_f1_score: 0.0000e+00\n",
      "Epoch 38/50\n",
      "900/900 [==============================] - 6s 6ms/step - loss: 0.0033 - accuracy: 0.9996 - precision: 0.6857 - recall: 5.1803e-04 - auc: 0.5039 - f1_score: 0.0010 - val_loss: 0.0035 - val_accuracy: 0.9996 - val_precision: 0.0000e+00 - val_recall: 0.0000e+00 - val_auc: 0.5034 - val_f1_score: 0.0000e+00\n",
      "Epoch 39/50\n",
      "900/900 [==============================] - 6s 6ms/step - loss: 0.0033 - accuracy: 0.9996 - precision: 0.6522 - recall: 6.4754e-04 - auc: 0.5038 - f1_score: 0.0013 - val_loss: 0.0035 - val_accuracy: 0.9996 - val_precision: 0.0000e+00 - val_recall: 0.0000e+00 - val_auc: 0.5029 - val_f1_score: 0.0000e+00\n",
      "Epoch 40/50\n",
      "900/900 [==============================] - 6s 6ms/step - loss: 0.0033 - accuracy: 0.9996 - precision: 0.9630 - recall: 5.6120e-04 - auc: 0.5039 - f1_score: 0.0011 - val_loss: 0.0035 - val_accuracy: 0.9996 - val_precision: 0.0000e+00 - val_recall: 0.0000e+00 - val_auc: 0.5030 - val_f1_score: 0.0000e+00\n",
      "Epoch 41/50\n",
      "900/900 [==============================] - 6s 6ms/step - loss: 0.0033 - accuracy: 0.9996 - precision: 0.8462 - recall: 4.7486e-04 - auc: 0.5039 - f1_score: 9.4920e-04 - val_loss: 0.0035 - val_accuracy: 0.9996 - val_precision: 0.0000e+00 - val_recall: 0.0000e+00 - val_auc: 0.5023 - val_f1_score: 0.0000e+00\n",
      "Epoch 42/50\n",
      "900/900 [==============================] - 6s 7ms/step - loss: 0.0033 - accuracy: 0.9996 - precision: 1.0000 - recall: 5.3962e-04 - auc: 0.5041 - f1_score: 0.0011 - val_loss: 0.0035 - val_accuracy: 0.9996 - val_precision: 0.0000e+00 - val_recall: 0.0000e+00 - val_auc: 0.5029 - val_f1_score: 0.0000e+00\n",
      "Epoch 43/50\n",
      "900/900 [==============================] - 6s 7ms/step - loss: 0.0033 - accuracy: 0.9996 - precision: 1.0000 - recall: 4.9645e-04 - auc: 0.5038 - f1_score: 9.9240e-04 - val_loss: 0.0035 - val_accuracy: 0.9996 - val_precision: 0.0000e+00 - val_recall: 0.0000e+00 - val_auc: 0.5031 - val_f1_score: 0.0000e+00\n",
      "Epoch 44/50\n",
      "900/900 [==============================] - 6s 7ms/step - loss: 0.0033 - accuracy: 0.9996 - precision: 0.7353 - recall: 5.3962e-04 - auc: 0.5039 - f1_score: 0.0011 - val_loss: 0.0035 - val_accuracy: 0.9996 - val_precision: 0.0000e+00 - val_recall: 0.0000e+00 - val_auc: 0.5027 - val_f1_score: 0.0000e+00\n",
      "Epoch 45/50\n",
      "900/900 [==============================] - 6s 7ms/step - loss: 0.0033 - accuracy: 0.9996 - precision: 1.0000 - recall: 4.7486e-04 - auc: 0.5036 - f1_score: 9.4928e-04 - val_loss: 0.0035 - val_accuracy: 0.9996 - val_precision: 0.0000e+00 - val_recall: 0.0000e+00 - val_auc: 0.5031 - val_f1_score: 0.0000e+00\n",
      "Epoch 46/50\n",
      "900/900 [==============================] - 6s 7ms/step - loss: 0.0033 - accuracy: 0.9996 - precision: 1.0000 - recall: 4.7486e-04 - auc: 0.5035 - f1_score: 9.4928e-04 - val_loss: 0.0035 - val_accuracy: 0.9996 - val_precision: 0.0000e+00 - val_recall: 0.0000e+00 - val_auc: 0.5031 - val_f1_score: 0.0000e+00\n",
      "Epoch 47/50\n",
      "900/900 [==============================] - 6s 7ms/step - loss: 0.0033 - accuracy: 0.9996 - precision: 1.0000 - recall: 4.7486e-04 - auc: 0.5038 - f1_score: 9.4928e-04 - val_loss: 0.0035 - val_accuracy: 0.9996 - val_precision: 0.0000e+00 - val_recall: 0.0000e+00 - val_auc: 0.5023 - val_f1_score: 0.0000e+00\n",
      "Epoch 48/50\n",
      "900/900 [==============================] - 6s 7ms/step - loss: 0.0033 - accuracy: 0.9996 - precision: 1.0000 - recall: 4.7486e-04 - auc: 0.5037 - f1_score: 9.4928e-04 - val_loss: 0.0035 - val_accuracy: 0.9996 - val_precision: 0.0000e+00 - val_recall: 0.0000e+00 - val_auc: 0.5026 - val_f1_score: 0.0000e+00\n",
      "Epoch 49/50\n",
      "900/900 [==============================] - 6s 7ms/step - loss: 0.0033 - accuracy: 0.9996 - precision: 1.0000 - recall: 4.7486e-04 - auc: 0.5036 - f1_score: 9.4928e-04 - val_loss: 0.0035 - val_accuracy: 0.9996 - val_precision: 0.0000e+00 - val_recall: 0.0000e+00 - val_auc: 0.5034 - val_f1_score: 0.0000e+00\n",
      "Epoch 50/50\n",
      "900/900 [==============================] - 6s 6ms/step - loss: 0.0033 - accuracy: 0.9996 - precision: 1.0000 - recall: 4.7486e-04 - auc: 0.5037 - f1_score: 9.4928e-04 - val_loss: 0.0035 - val_accuracy: 0.9996 - val_precision: 0.0000e+00 - val_recall: 0.0000e+00 - val_auc: 0.5033 - val_f1_score: 0.0000e+00\n"
     ]
    },
    {
     "data": {
      "text/plain": [
       "<keras.src.callbacks.History at 0x23ab33391d0>"
      ]
     },
     "execution_count": 25,
     "metadata": {},
     "output_type": "execute_result"
    }
   ],
   "source": [
    "model.fit(X_train, A_train, epochs=50, batch_size=10, validation_split=0.1)"
   ]
  },
  {
   "cell_type": "code",
   "execution_count": 76,
   "id": "30aaf00d-f0fc-4359-b108-09a408ee8a20",
   "metadata": {
    "tags": []
   },
   "outputs": [
    {
     "name": "stdout",
     "output_type": "stream",
     "text": [
      "84/84 [==============================] - 1s 12ms/step - loss: 0.0055 - accuracy: 0.9995 - precision: 0.3689 - recall: 0.1959 - auc: 0.6871 - f1_score: 0.2559\n"
     ]
    },
    {
     "ename": "ValueError",
     "evalue": "too many values to unpack (expected 2)",
     "output_type": "error",
     "traceback": [
      "\u001b[1;31m---------------------------------------------------------------------------\u001b[0m",
      "\u001b[1;31mValueError\u001b[0m                                Traceback (most recent call last)",
      "Cell \u001b[1;32mIn[76], line 1\u001b[0m\n\u001b[1;32m----> 1\u001b[0m loss, accuracy \u001b[38;5;241m=\u001b[39m model\u001b[38;5;241m.\u001b[39mevaluate(X_test, A_test)\n\u001b[0;32m      2\u001b[0m \u001b[38;5;28mprint\u001b[39m(\u001b[38;5;124mf\u001b[39m\u001b[38;5;124m\"\u001b[39m\u001b[38;5;124mTest Loss: \u001b[39m\u001b[38;5;132;01m{\u001b[39;00mloss\u001b[38;5;132;01m}\u001b[39;00m\u001b[38;5;124m, Test Accuracy: \u001b[39m\u001b[38;5;132;01m{\u001b[39;00maccuracy\u001b[38;5;132;01m}\u001b[39;00m\u001b[38;5;124m\"\u001b[39m)\n",
      "\u001b[1;31mValueError\u001b[0m: too many values to unpack (expected 2)"
     ]
    }
   ],
   "source": [
    "loss, accuracy = model.evaluate(X_test, A_test)\n",
    "print(f\"Test Loss: {loss}, Test Accuracy: {accuracy}\")"
   ]
  },
  {
   "cell_type": "code",
   "execution_count": 52,
   "id": "cc19d35c-95c7-458d-8851-2ea6e3db0c48",
   "metadata": {
    "tags": []
   },
   "outputs": [
    {
     "name": "stdout",
     "output_type": "stream",
     "text": [
      "1/1 [==============================] - 0s 11ms/step\n",
      "Predicted connections for node: [0 0 1 ... 1 0 0]\n",
      "Real: [0 1 1 ... 1 1 1]\n"
     ]
    }
   ],
   "source": [
    "def predict_adjacency_row(model, node_features):\n",
    "    \"\"\"\n",
    "    Predict the adjacency row for a given node's features using a trained neural network model.\n",
    "    \n",
    "    Parameters:\n",
    "    - model: The trained neural network model.\n",
    "    - node_features: The feature vector for the node of interest (as a numpy array).\n",
    "    \n",
    "    Returns:\n",
    "    - A binary vector representing the predicted connections from the node to all other nodes.\n",
    "    \"\"\"\n",
    "    # Ensure node_features is the right shape: (1, num_features)\n",
    "    node_features = np.array(node_features).reshape(1, -1)\n",
    "    \n",
    "    # Predict the connection probabilities using the model\n",
    "    predicted_probabilities = model.predict(node_features)\n",
    "    \n",
    "    # Convert probabilities to binary values (0 or 1) using a threshold (e.g., 0.5)\n",
    "    predicted_connections = (predicted_probabilities > 0.5).astype(int)\n",
    "    \n",
    "    # Return the first (and only) row of the predictions\n",
    "    return predicted_connections[0]\n",
    "\n",
    "# Example usage:\n",
    "# Assuming you have the features for a specific node:\n",
    "node_index = 10  # For example, if you want to predict connections for the 10th node\n",
    "node_features = X[node_index]  # Extract features for this node\n",
    "\n",
    "predicted_row = predict_adjacency_row(model, node_features)\n",
    "print(\"Predicted connections for node:\", predicted_row)\n",
    "print(\"Real:\", A[node_index, :])\n"
   ]
  },
  {
   "cell_type": "code",
   "execution_count": 6,
   "id": "d724a366-2d26-4fc5-8a58-801cefb5f8d1",
   "metadata": {
    "tags": []
   },
   "outputs": [
    {
     "name": "stderr",
     "output_type": "stream",
     "text": [
      "Downloading https://github.com/kimiyoung/planetoid/raw/master/data/ind.cora.x\n",
      "Downloading https://github.com/kimiyoung/planetoid/raw/master/data/ind.cora.tx\n",
      "Downloading https://github.com/kimiyoung/planetoid/raw/master/data/ind.cora.allx\n",
      "Downloading https://github.com/kimiyoung/planetoid/raw/master/data/ind.cora.y\n",
      "Downloading https://github.com/kimiyoung/planetoid/raw/master/data/ind.cora.ty\n",
      "Downloading https://github.com/kimiyoung/planetoid/raw/master/data/ind.cora.ally\n",
      "Downloading https://github.com/kimiyoung/planetoid/raw/master/data/ind.cora.graph\n",
      "Downloading https://github.com/kimiyoung/planetoid/raw/master/data/ind.cora.test.index\n",
      "Processing...\n",
      "Done!\n"
     ]
    }
   ],
   "source": [
    "dataset = Planetoid(root='/tmp/Cora', name='Cora')"
   ]
  },
  {
   "cell_type": "code",
   "execution_count": 22,
   "id": "07492826-d5d3-4f24-b6fa-e670632244f2",
   "metadata": {
    "tags": []
   },
   "outputs": [],
   "source": [
    "def create_masks(num_nodes, train_percent=0.8, val_percent=0.1):\n",
    "    \"\"\"\n",
    "    Randomly assign train, validation, and test masks for the nodes in the graph.\n",
    "    \n",
    "    Parameters:\n",
    "    - num_nodes (int): Total number of nodes in the graph.\n",
    "    - train_percent (float): Percentage of nodes to include in the training set.\n",
    "    - val_percent (float): Percentage of nodes to include in the validation set.\n",
    "    \n",
    "    Returns:\n",
    "    - Tuple of Tensors: (train_mask, val_mask, test_mask)\n",
    "    \"\"\"\n",
    "    indices = np.random.permutation(num_nodes)\n",
    "    train_size = int(num_nodes * train_percent)\n",
    "    val_size = int(num_nodes * val_percent)\n",
    "\n",
    "    train_mask = torch.zeros(num_nodes, dtype=torch.bool)\n",
    "    val_mask = torch.zeros(num_nodes, dtype=torch.bool)\n",
    "    test_mask = torch.zeros(num_nodes, dtype=torch.bool)\n",
    "\n",
    "    train_mask[indices[:train_size]] = True\n",
    "    val_mask[indices[train_size:train_size + val_size]] = True\n",
    "    test_mask[indices[train_size + val_size:]] = True\n",
    "\n",
    "    return train_mask, val_mask, test_mask"
   ]
  },
  {
   "cell_type": "code",
   "execution_count": 23,
   "id": "c950e118-3247-49d3-989f-6d9f2f3c1b2f",
   "metadata": {
    "tags": []
   },
   "outputs": [],
   "source": [
    "from torch_geometric.data import Data\n",
    "\n",
    "def create_torch_geo_data(features, adjacency_matrix, num_nodes):\n",
    "    edge_index = adjacency_to_edge_index(adjacency_matrix)\n",
    "    x = features_to_tensor(features)\n",
    "    train_mask, val_mask, test_mask = create_masks(num_nodes)\n",
    "    data = Data(x=x, edge_index=edge_index, train_mask=train_mask, val_mask=val_mask, test_mask=test_mask)\n",
    "    return data"
   ]
  },
  {
   "cell_type": "code",
   "execution_count": 24,
   "id": "8d38d5e2-b651-4c3c-9032-14314784ab99",
   "metadata": {
    "tags": []
   },
   "outputs": [
    {
     "name": "stdout",
     "output_type": "stream",
     "text": [
      "tensor([[    0,     0,     0,  ..., 13325, 13325, 13325],\n",
      "        [  674,   807,   873,  ...,  3501,  8144, 13226]])\n",
      "tensor([[1.0000e+00, 3.0260e+03, 3.0260e+03,  ..., 8.7400e+02, 8.0800e+02,\n",
      "         8.7400e+02],\n",
      "        [4.7790e+03, 2.0000e+00, 4.1600e+02,  ..., 2.0000e+00, 3.4980e+03,\n",
      "         3.4980e+03],\n",
      "        [8.0810e+03, 7.1830e+03, 3.0000e+00,  ..., 7.1830e+03, 8.0810e+03,\n",
      "         8.0810e+03],\n",
      "        ...,\n",
      "        [8.0400e+03, 4.6310e+03, 1.2823e+04,  ..., 8.0400e+03, 8.0400e+03,\n",
      "         8.0400e+03],\n",
      "        [1.9210e+03, 1.3325e+04, 1.3325e+04,  ..., 1.3325e+04, 1.3325e+04,\n",
      "         1.3325e+04],\n",
      "        [3.5020e+03, 3.5020e+03, 1.3227e+04,  ..., 3.5020e+03, 1.3326e+04,\n",
      "         3.5020e+03]])\n"
     ]
    }
   ],
   "source": [
    "import torch\n",
    "import numpy as np\n",
    "\n",
    "def adjacency_to_edge_index(adjacency_matrix):\n",
    "    # Find the indices of nonzero elements (edges) in the adjacency matrix\n",
    "    src, dst = adjacency_matrix.nonzero()\n",
    "    # Create a tensor containing edge pairs\n",
    "    edge_index = np.vstack([src, dst])\n",
    "    return torch.tensor(edge_index, dtype=torch.long)\n",
    "\n",
    "def features_to_tensor(features):\n",
    "    return torch.tensor(features, dtype=torch.float)\n",
    "\n",
    "haha = adjacency_to_edge_index(A)\n",
    "print(haha)\n",
    "hehe = features_to_tensor(X)\n",
    "print(hehe)"
   ]
  },
  {
   "cell_type": "code",
   "execution_count": 29,
   "id": "8b8cd2c6-605c-4965-b16e-e4c4703f5744",
   "metadata": {
    "tags": []
   },
   "outputs": [
    {
     "name": "stdout",
     "output_type": "stream",
     "text": [
      "128\n",
      "Data(x=[13326, 128], edge_index=[2, 68562], train_mask=[13326], val_mask=[13326], test_mask=[13326])\n"
     ]
    }
   ],
   "source": [
    "from torch_geometric.nn import GCNConv\n",
    "import torch.nn.functional as F\n",
    "\n",
    "class GCN(torch.nn.Module):\n",
    "    def __init__(self, num_features, num_classes):\n",
    "        super(GCN, self).__init__()\n",
    "        self.conv1 = GCNConv(num_features, 16)\n",
    "        self.conv2 = GCNConv(16, num_classes)\n",
    "\n",
    "    def forward(self, data):\n",
    "        x, edge_index = data.x, data.edge_index\n",
    "        x = F.relu(self.conv1(x, edge_index))\n",
    "        x = F.dropout(x, training=self.training)\n",
    "        x = self.conv2(x, edge_index)\n",
    "        return F.log_softmax(x, dim=1)\n",
    "\n",
    "# Assuming num_classes is known, and features and adjacency_matrix are your numpy arrays\n",
    "num_features = X.shape[1]\n",
    "print(num_features)\n",
    "num_classes = 13326  # You'll need to set this based on your dataset\n",
    "data = create_torch_geo_data(X, A, num_classes)\n",
    "\n",
    "# Initialize model\n",
    "model = GCN(num_features, num_classes)\n",
    "\n",
    "print(data)\n",
    "# Training and evaluation code follows similar structure to previous example"
   ]
  },
  {
   "cell_type": "code",
   "execution_count": 30,
   "id": "d1b81774-1173-400e-91b6-6990fe0be7cd",
   "metadata": {},
   "outputs": [
    {
     "name": "stdout",
     "output_type": "stream",
     "text": [
      "tensor([[1.0000e+00, 3.0260e+03, 3.0260e+03,  ..., 8.7400e+02, 8.0800e+02,\n",
      "         8.7400e+02],\n",
      "        [4.7790e+03, 2.0000e+00, 4.1600e+02,  ..., 2.0000e+00, 3.4980e+03,\n",
      "         3.4980e+03],\n",
      "        [8.0810e+03, 7.1830e+03, 3.0000e+00,  ..., 7.1830e+03, 8.0810e+03,\n",
      "         8.0810e+03],\n",
      "        ...,\n",
      "        [8.0400e+03, 4.6310e+03, 1.2823e+04,  ..., 8.0400e+03, 8.0400e+03,\n",
      "         8.0400e+03],\n",
      "        [1.9210e+03, 1.3325e+04, 1.3325e+04,  ..., 1.3325e+04, 1.3325e+04,\n",
      "         1.3325e+04],\n",
      "        [3.5020e+03, 3.5020e+03, 1.3227e+04,  ..., 3.5020e+03, 1.3326e+04,\n",
      "         3.5020e+03]])\n",
      "tensor([[    0,     0,     0,  ..., 13325, 13325, 13325],\n",
      "        [  674,   807,   873,  ...,  3501,  8144, 13226]])\n",
      "None\n",
      "tensor([True, True, True,  ..., True, True, True])\n"
     ]
    }
   ],
   "source": [
    "import torch\n",
    "from torch_geometric.datasets import Planetoid\n",
    "import torch.nn.functional as F\n",
    "from torch_geometric.nn import GCNConv\n",
    "print(data.x)  # Node features\n",
    "print(data.edge_index)  # Edge list\n",
    "print(data.y)  # Labels (NoneType error may be because this is missing)\n",
    "print(data.train_mask)  # Training mask"
   ]
  },
  {
   "cell_type": "code",
   "execution_count": 28,
   "id": "23c70dee-2f67-4d0a-ac7f-eb0f4a9ad89b",
   "metadata": {
    "tags": []
   },
   "outputs": [
    {
     "ename": "TypeError",
     "evalue": "'NoneType' object is not subscriptable",
     "output_type": "error",
     "traceback": [
      "\u001b[1;31m---------------------------------------------------------------------------\u001b[0m",
      "\u001b[1;31mTypeError\u001b[0m                                 Traceback (most recent call last)",
      "Cell \u001b[1;32mIn[28], line 7\u001b[0m\n\u001b[0;32m      5\u001b[0m optimizer\u001b[38;5;241m.\u001b[39mzero_grad()\n\u001b[0;32m      6\u001b[0m out \u001b[38;5;241m=\u001b[39m model(data)\n\u001b[1;32m----> 7\u001b[0m loss \u001b[38;5;241m=\u001b[39m F\u001b[38;5;241m.\u001b[39mnll_loss(out[data\u001b[38;5;241m.\u001b[39mtrain_mask], data\u001b[38;5;241m.\u001b[39my[data\u001b[38;5;241m.\u001b[39mtrain_mask])\n\u001b[0;32m      8\u001b[0m loss\u001b[38;5;241m.\u001b[39mbackward()\n\u001b[0;32m      9\u001b[0m optimizer\u001b[38;5;241m.\u001b[39mstep()\n",
      "\u001b[1;31mTypeError\u001b[0m: 'NoneType' object is not subscriptable"
     ]
    }
   ],
   "source": [
    "optimizer = torch.optim.Adam(model.parameters(), lr=0.01, weight_decay=5e-4)\n",
    "\n",
    "model.train()\n",
    "for epoch in range(200):\n",
    "    optimizer.zero_grad()\n",
    "    out = model(data)\n",
    "    loss = F.nll_loss(out[data.train_mask], data.y[data.train_mask])\n",
    "    loss.backward()\n",
    "    optimizer.step()\n",
    "\n",
    "    # Optionally, evaluate on validation set\n",
    "    model.eval()\n",
    "    _, pred = out[data.val_mask].max(dim=1)\n",
    "    correct = (pred == data.y[data.val_mask]).sum()\n",
    "    val_accuracy = int(correct) / int(data.val_mask.sum())\n",
    "    print(f'Epoch {epoch}, Val Accuracy: {val_accuracy:.4f}')"
   ]
  },
  {
   "cell_type": "code",
   "execution_count": 9,
   "id": "cd3f286e-d287-434b-9815-6e5acf5c877e",
   "metadata": {
    "tags": []
   },
   "outputs": [
    {
     "name": "stdout",
     "output_type": "stream",
     "text": [
      "Accuracy: 0.7990\n"
     ]
    }
   ],
   "source": [
    "model.eval()\n",
    "_, pred = out[data.test_mask].max(dim=1)\n",
    "correct = (pred == data.y[data.test_mask]).sum()\n",
    "test_accuracy = int(correct) / int(data.test_mask.sum())\n",
    "print(f'Test Accuracy: {test_accuracy:.4f}')"
   ]
  },
  {
   "cell_type": "code",
   "execution_count": 31,
   "id": "280ef868-7ae4-4780-95e7-a2004f957fb5",
   "metadata": {},
   "outputs": [],
   "source": [
    "class GCN(torch.nn.Module):\n",
    "    def __init__(self, num_features, hidden_dim):\n",
    "        super(GCN, self).__init__()\n",
    "        self.conv1 = GCNConv(num_features, hidden_dim)\n",
    "        self.conv2 = GCNConv(hidden_dim, hidden_dim)\n",
    "\n",
    "    def forward(self, data):\n",
    "        x, edge_index = data.x, data.edge_index\n",
    "        x = F.relu(self.conv1(x, edge_index))\n",
    "        x = F.dropout(x, training=self.training)\n",
    "        x = self.conv2(x, edge_index)\n",
    "        return x  # Output is node embeddings"
   ]
  },
  {
   "cell_type": "code",
   "execution_count": 32,
   "id": "ec247a75-80be-406c-adfb-667e4784e998",
   "metadata": {
    "tags": []
   },
   "outputs": [],
   "source": [
    "def compute_edge_scores(node_embeddings):\n",
    "    # Using dot product to score edges\n",
    "    scores = torch.matmul(node_embeddings, node_embeddings.t())\n",
    "    return torch.sigmoid(scores)  # Use sigmoid to map scores to probabilities"
   ]
  },
  {
   "cell_type": "code",
   "execution_count": 34,
   "id": "51e999ab-cd4b-467b-b217-aba3eb86e34d",
   "metadata": {
    "tags": []
   },
   "outputs": [],
   "source": [
    "def create_edge_set(edge_index):\n",
    "    edge_set = set()\n",
    "    for i in range(edge_index.shape[1]):\n",
    "        edge_set.add((edge_index[0, i].item(), edge_index[1, i].item()))\n",
    "        edge_set.add((edge_index[1, i].item(), edge_index[0, i].item()))  # Add reverse direction for undirected graphs\n",
    "    return edge_set\n",
    "\n",
    "edge_set = create_edge_set(data.edge_index)"
   ]
  },
  {
   "cell_type": "code",
   "execution_count": 35,
   "id": "e0a47b32-e6ec-45cf-b1d2-59ae7ec24421",
   "metadata": {
    "tags": []
   },
   "outputs": [],
   "source": [
    "def get_negative_samples(edge_set, num_nodes, num_neg_samples):\n",
    "    neg_edge_index = []\n",
    "    while len(neg_edge_index) < num_neg_samples:\n",
    "        i = np.random.randint(0, num_nodes)\n",
    "        j = np.random.randint(0, num_nodes)\n",
    "        if i != j and (i, j) not in edge_set:\n",
    "            neg_edge_index.append([i, j])\n",
    "    return torch.tensor(neg_edge_index).t()\n",
    "\n",
    "negative_edge_index = get_negative_samples(edge_set, data.num_nodes, num_neg_samples=1000)"
   ]
  },
  {
   "cell_type": "code",
   "execution_count": null,
   "id": "07ac2d9e-268e-4c53-ba3b-b82c109d27b1",
   "metadata": {
    "tags": []
   },
   "outputs": [],
   "source": [
    "optimizer = torch.optim.Adam(model.parameters(), lr=0.01)\n",
    "criterion = torch.nn.BCEWithLogitsLoss()\n",
    "\n",
    "model.train()\n",
    "for epoch in range(200):\n",
    "    optimizer.zero_grad()\n",
    "    embeddings = model(data)\n",
    "    pos_scores = compute_edge_scores(embeddings)[data.edge_index[0], data.edge_index[1]]\n",
    "    neg_scores = compute_edge_scores(embeddings)[negative_edge_index[0], negative_edge_index[1]]\n",
    "    \n",
    "    # Labels: 1s for positive samples, 0s for negative samples\n",
    "    labels = torch.cat([torch.ones(pos_scores.shape[0]), torch.zeros(neg_scores.shape[0])])\n",
    "    scores = torch.cat([pos_scores, neg_scores])\n",
    "    \n",
    "    loss = criterion(scores, labels)\n",
    "    loss.backward()\n",
    "    optimizer.step()"
   ]
  },
  {
   "cell_type": "code",
   "execution_count": null,
   "id": "4517f26e-38be-4e5b-929c-cd1ea9b16437",
   "metadata": {},
   "outputs": [],
   "source": []
  }
 ],
 "metadata": {
  "kernelspec": {
   "display_name": "Python 3 (ipykernel)",
   "language": "python",
   "name": "python3"
  },
  "language_info": {
   "codemirror_mode": {
    "name": "ipython",
    "version": 3
   },
   "file_extension": ".py",
   "mimetype": "text/x-python",
   "name": "python",
   "nbconvert_exporter": "python",
   "pygments_lexer": "ipython3",
   "version": "3.11.5"
  }
 },
 "nbformat": 4,
 "nbformat_minor": 5
}
