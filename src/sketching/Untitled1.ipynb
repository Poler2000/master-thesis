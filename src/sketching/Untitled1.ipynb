{
 "cells": [
  {
   "cell_type": "code",
   "execution_count": 1,
   "id": "533fb68c-b771-4c76-abe9-1fed9dd14ee4",
   "metadata": {
    "tags": []
   },
   "outputs": [
    {
     "name": "stderr",
     "output_type": "stream",
     "text": [
      "2024-04-14 19:22:02.427813: E external/local_xla/xla/stream_executor/cuda/cuda_dnn.cc:9261] Unable to register cuDNN factory: Attempting to register factory for plugin cuDNN when one has already been registered\n",
      "2024-04-14 19:22:02.427905: E external/local_xla/xla/stream_executor/cuda/cuda_fft.cc:607] Unable to register cuFFT factory: Attempting to register factory for plugin cuFFT when one has already been registered\n",
      "2024-04-14 19:22:02.471586: E external/local_xla/xla/stream_executor/cuda/cuda_blas.cc:1515] Unable to register cuBLAS factory: Attempting to register factory for plugin cuBLAS when one has already been registered\n",
      "2024-04-14 19:22:02.554733: I tensorflow/core/platform/cpu_feature_guard.cc:182] This TensorFlow binary is optimized to use available CPU instructions in performance-critical operations.\n",
      "To enable the following instructions: AVX2 FMA, in other operations, rebuild TensorFlow with the appropriate compiler flags.\n",
      "2024-04-14 19:22:03.522466: W tensorflow/compiler/tf2tensorrt/utils/py_utils.cc:38] TF-TRT Warning: Could not find TensorRT\n"
     ]
    }
   ],
   "source": [
    "import tensorflow as tf\n",
    "from tensorflow.keras.models import Sequential\n",
    "from tensorflow.keras.layers import Dense\n",
    "from sklearn.model_selection import train_test_split\n",
    "import numpy as np"
   ]
  },
  {
   "cell_type": "code",
   "execution_count": 2,
   "id": "6f049347-795e-4eb7-a38c-33a996116c11",
   "metadata": {
    "tags": []
   },
   "outputs": [],
   "source": [
    "# Number of nodes\n",
    "num_nodes = 100\n",
    "\n",
    "# Number of features per node\n",
    "num_features = 10\n",
    "\n",
    "# Generate random features\n",
    "X = np.random.rand(num_nodes, num_features)\n",
    "\n",
    "# Generate a random adjacency matrix\n",
    "A = np.random.randint(2, size=(num_nodes, num_nodes))"
   ]
  },
  {
   "cell_type": "code",
   "execution_count": 3,
   "id": "110e9fda-27a4-41c7-9ccf-9ea2c449ccb6",
   "metadata": {
    "tags": []
   },
   "outputs": [],
   "source": [
    "X_train, X_test, A_train, A_test = train_test_split(X, A, test_size=0.2, random_state=42)"
   ]
  },
  {
   "cell_type": "code",
   "execution_count": 4,
   "id": "fc9e3ed1-28b1-46b8-be59-3628a9b627f4",
   "metadata": {
    "tags": []
   },
   "outputs": [
    {
     "name": "stderr",
     "output_type": "stream",
     "text": [
      "2024-04-14 19:22:16.568735: I external/local_xla/xla/stream_executor/cuda/cuda_executor.cc:901] successful NUMA node read from SysFS had negative value (-1), but there must be at least one NUMA node, so returning NUMA node zero. See more at https://github.com/torvalds/linux/blob/v6.0/Documentation/ABI/testing/sysfs-bus-pci#L344-L355\n",
      "2024-04-14 19:22:16.702997: I external/local_xla/xla/stream_executor/cuda/cuda_executor.cc:901] successful NUMA node read from SysFS had negative value (-1), but there must be at least one NUMA node, so returning NUMA node zero. See more at https://github.com/torvalds/linux/blob/v6.0/Documentation/ABI/testing/sysfs-bus-pci#L344-L355\n",
      "2024-04-14 19:22:16.703351: I external/local_xla/xla/stream_executor/cuda/cuda_executor.cc:901] successful NUMA node read from SysFS had negative value (-1), but there must be at least one NUMA node, so returning NUMA node zero. See more at https://github.com/torvalds/linux/blob/v6.0/Documentation/ABI/testing/sysfs-bus-pci#L344-L355\n",
      "2024-04-14 19:22:16.704941: I external/local_xla/xla/stream_executor/cuda/cuda_executor.cc:901] successful NUMA node read from SysFS had negative value (-1), but there must be at least one NUMA node, so returning NUMA node zero. See more at https://github.com/torvalds/linux/blob/v6.0/Documentation/ABI/testing/sysfs-bus-pci#L344-L355\n",
      "2024-04-14 19:22:16.705275: I external/local_xla/xla/stream_executor/cuda/cuda_executor.cc:901] successful NUMA node read from SysFS had negative value (-1), but there must be at least one NUMA node, so returning NUMA node zero. See more at https://github.com/torvalds/linux/blob/v6.0/Documentation/ABI/testing/sysfs-bus-pci#L344-L355\n",
      "2024-04-14 19:22:16.705589: I external/local_xla/xla/stream_executor/cuda/cuda_executor.cc:901] successful NUMA node read from SysFS had negative value (-1), but there must be at least one NUMA node, so returning NUMA node zero. See more at https://github.com/torvalds/linux/blob/v6.0/Documentation/ABI/testing/sysfs-bus-pci#L344-L355\n",
      "2024-04-14 19:22:16.786120: I external/local_xla/xla/stream_executor/cuda/cuda_executor.cc:901] successful NUMA node read from SysFS had negative value (-1), but there must be at least one NUMA node, so returning NUMA node zero. See more at https://github.com/torvalds/linux/blob/v6.0/Documentation/ABI/testing/sysfs-bus-pci#L344-L355\n",
      "2024-04-14 19:22:16.786292: I external/local_xla/xla/stream_executor/cuda/cuda_executor.cc:901] successful NUMA node read from SysFS had negative value (-1), but there must be at least one NUMA node, so returning NUMA node zero. See more at https://github.com/torvalds/linux/blob/v6.0/Documentation/ABI/testing/sysfs-bus-pci#L344-L355\n",
      "2024-04-14 19:22:16.786435: I external/local_xla/xla/stream_executor/cuda/cuda_executor.cc:901] successful NUMA node read from SysFS had negative value (-1), but there must be at least one NUMA node, so returning NUMA node zero. See more at https://github.com/torvalds/linux/blob/v6.0/Documentation/ABI/testing/sysfs-bus-pci#L344-L355\n",
      "2024-04-14 19:22:16.786537: I tensorflow/core/common_runtime/gpu/gpu_device.cc:1929] Created device /job:localhost/replica:0/task:0/device:GPU:0 with 1975 MB memory:  -> device: 0, name: NVIDIA GeForce GTX 1650 Ti, pci bus id: 0000:01:00.0, compute capability: 7.5\n"
     ]
    }
   ],
   "source": [
    "model = Sequential([\n",
    "    Dense(64, activation='relu', input_dim=num_features),\n",
    "    Dense(64, activation='relu'),\n",
    "    Dense(num_nodes, activation='sigmoid')  # Output layer\n",
    "])"
   ]
  },
  {
   "cell_type": "code",
   "execution_count": 5,
   "id": "6f157f03-196f-4f22-b69d-9805caad4cee",
   "metadata": {
    "tags": []
   },
   "outputs": [],
   "source": [
    "model.compile(optimizer='adam', loss='binary_crossentropy', metrics=['accuracy'])"
   ]
  },
  {
   "cell_type": "code",
   "execution_count": 6,
   "id": "5e79d765-1a15-4b90-b5fc-5fba1fd82684",
   "metadata": {
    "tags": []
   },
   "outputs": [
    {
     "name": "stdout",
     "output_type": "stream",
     "text": [
      "Epoch 1/50\n"
     ]
    },
    {
     "name": "stderr",
     "output_type": "stream",
     "text": [
      "2024-04-14 19:22:32.435165: I external/local_tsl/tsl/platform/default/subprocess.cc:304] Start cannot spawn child process: No such file or directory\n",
      "2024-04-14 19:22:32.949600: I external/local_xla/xla/service/service.cc:168] XLA service 0x7fb5c43cca90 initialized for platform CUDA (this does not guarantee that XLA will be used). Devices:\n",
      "2024-04-14 19:22:32.949630: I external/local_xla/xla/service/service.cc:176]   StreamExecutor device (0): NVIDIA GeForce GTX 1650 Ti, Compute Capability 7.5\n",
      "2024-04-14 19:22:32.958700: I tensorflow/compiler/mlir/tensorflow/utils/dump_mlir_util.cc:269] disabling MLIR crash reproducer, set env var `MLIR_CRASH_REPRODUCER_DIRECTORY` to enable.\n",
      "2024-04-14 19:22:32.986540: I external/local_xla/xla/stream_executor/cuda/cuda_dnn.cc:454] Loaded cuDNN version 8904\n",
      "WARNING: All log messages before absl::InitializeLog() is called are written to STDERR\n",
      "I0000 00:00:1713115353.077996   34761 device_compiler.h:186] Compiled cluster using XLA!  This line is logged at most once for the lifetime of the process.\n"
     ]
    },
    {
     "name": "stdout",
     "output_type": "stream",
     "text": [
      "8/8 [==============================] - 2s 23ms/step - loss: 0.6946 - accuracy: 0.0278 - val_loss: 0.6955 - val_accuracy: 0.0000e+00\n",
      "Epoch 2/50\n",
      "8/8 [==============================] - 0s 7ms/step - loss: 0.6924 - accuracy: 0.0278 - val_loss: 0.6959 - val_accuracy: 0.0000e+00\n",
      "Epoch 3/50\n",
      "8/8 [==============================] - 0s 7ms/step - loss: 0.6911 - accuracy: 0.0278 - val_loss: 0.6967 - val_accuracy: 0.0000e+00\n",
      "Epoch 4/50\n",
      "8/8 [==============================] - 0s 7ms/step - loss: 0.6900 - accuracy: 0.0278 - val_loss: 0.6977 - val_accuracy: 0.0000e+00\n",
      "Epoch 5/50\n",
      "8/8 [==============================] - 0s 7ms/step - loss: 0.6888 - accuracy: 0.0278 - val_loss: 0.6986 - val_accuracy: 0.0000e+00\n",
      "Epoch 6/50\n",
      "8/8 [==============================] - 0s 7ms/step - loss: 0.6875 - accuracy: 0.0278 - val_loss: 0.6993 - val_accuracy: 0.0000e+00\n",
      "Epoch 7/50\n",
      "8/8 [==============================] - 0s 8ms/step - loss: 0.6866 - accuracy: 0.0278 - val_loss: 0.7006 - val_accuracy: 0.0000e+00\n",
      "Epoch 8/50\n",
      "8/8 [==============================] - 0s 7ms/step - loss: 0.6853 - accuracy: 0.0139 - val_loss: 0.7021 - val_accuracy: 0.0000e+00\n",
      "Epoch 9/50\n",
      "8/8 [==============================] - 0s 7ms/step - loss: 0.6841 - accuracy: 0.0139 - val_loss: 0.7032 - val_accuracy: 0.0000e+00\n",
      "Epoch 10/50\n",
      "8/8 [==============================] - 0s 7ms/step - loss: 0.6830 - accuracy: 0.0000e+00 - val_loss: 0.7044 - val_accuracy: 0.0000e+00\n",
      "Epoch 11/50\n",
      "8/8 [==============================] - 0s 7ms/step - loss: 0.6818 - accuracy: 0.0000e+00 - val_loss: 0.7050 - val_accuracy: 0.0000e+00\n",
      "Epoch 12/50\n",
      "8/8 [==============================] - 0s 8ms/step - loss: 0.6805 - accuracy: 0.0139 - val_loss: 0.7059 - val_accuracy: 0.0000e+00\n",
      "Epoch 13/50\n",
      "8/8 [==============================] - 0s 8ms/step - loss: 0.6793 - accuracy: 0.0139 - val_loss: 0.7076 - val_accuracy: 0.0000e+00\n",
      "Epoch 14/50\n",
      "8/8 [==============================] - 0s 7ms/step - loss: 0.6781 - accuracy: 0.0139 - val_loss: 0.7090 - val_accuracy: 0.0000e+00\n",
      "Epoch 15/50\n",
      "8/8 [==============================] - 0s 8ms/step - loss: 0.6767 - accuracy: 0.0139 - val_loss: 0.7103 - val_accuracy: 0.0000e+00\n",
      "Epoch 16/50\n",
      "8/8 [==============================] - 0s 7ms/step - loss: 0.6756 - accuracy: 0.0000e+00 - val_loss: 0.7106 - val_accuracy: 0.0000e+00\n",
      "Epoch 17/50\n",
      "8/8 [==============================] - 0s 7ms/step - loss: 0.6740 - accuracy: 0.0000e+00 - val_loss: 0.7109 - val_accuracy: 0.0000e+00\n",
      "Epoch 18/50\n",
      "8/8 [==============================] - 0s 8ms/step - loss: 0.6725 - accuracy: 0.0000e+00 - val_loss: 0.7122 - val_accuracy: 0.0000e+00\n",
      "Epoch 19/50\n",
      "8/8 [==============================] - 0s 8ms/step - loss: 0.6711 - accuracy: 0.0000e+00 - val_loss: 0.7141 - val_accuracy: 0.0000e+00\n",
      "Epoch 20/50\n",
      "8/8 [==============================] - 0s 7ms/step - loss: 0.6696 - accuracy: 0.0000e+00 - val_loss: 0.7152 - val_accuracy: 0.0000e+00\n",
      "Epoch 21/50\n",
      "8/8 [==============================] - 0s 8ms/step - loss: 0.6681 - accuracy: 0.0000e+00 - val_loss: 0.7171 - val_accuracy: 0.0000e+00\n",
      "Epoch 22/50\n",
      "8/8 [==============================] - 0s 6ms/step - loss: 0.6667 - accuracy: 0.0000e+00 - val_loss: 0.7169 - val_accuracy: 0.0000e+00\n",
      "Epoch 23/50\n",
      "8/8 [==============================] - 0s 7ms/step - loss: 0.6648 - accuracy: 0.0000e+00 - val_loss: 0.7179 - val_accuracy: 0.0000e+00\n",
      "Epoch 24/50\n",
      "8/8 [==============================] - 0s 6ms/step - loss: 0.6633 - accuracy: 0.0000e+00 - val_loss: 0.7204 - val_accuracy: 0.0000e+00\n",
      "Epoch 25/50\n",
      "8/8 [==============================] - 0s 7ms/step - loss: 0.6616 - accuracy: 0.0000e+00 - val_loss: 0.7224 - val_accuracy: 0.0000e+00\n",
      "Epoch 26/50\n",
      "8/8 [==============================] - 0s 6ms/step - loss: 0.6601 - accuracy: 0.0000e+00 - val_loss: 0.7223 - val_accuracy: 0.0000e+00\n",
      "Epoch 27/50\n",
      "8/8 [==============================] - 0s 8ms/step - loss: 0.6581 - accuracy: 0.0000e+00 - val_loss: 0.7233 - val_accuracy: 0.0000e+00\n",
      "Epoch 28/50\n",
      "8/8 [==============================] - 0s 8ms/step - loss: 0.6564 - accuracy: 0.0000e+00 - val_loss: 0.7241 - val_accuracy: 0.0000e+00\n",
      "Epoch 29/50\n",
      "8/8 [==============================] - 0s 7ms/step - loss: 0.6547 - accuracy: 0.0000e+00 - val_loss: 0.7219 - val_accuracy: 0.0000e+00\n",
      "Epoch 30/50\n",
      "8/8 [==============================] - 0s 7ms/step - loss: 0.6528 - accuracy: 0.0000e+00 - val_loss: 0.7225 - val_accuracy: 0.0000e+00\n",
      "Epoch 31/50\n",
      "8/8 [==============================] - 0s 7ms/step - loss: 0.6511 - accuracy: 0.0000e+00 - val_loss: 0.7252 - val_accuracy: 0.0000e+00\n",
      "Epoch 32/50\n",
      "8/8 [==============================] - 0s 8ms/step - loss: 0.6496 - accuracy: 0.0000e+00 - val_loss: 0.7282 - val_accuracy: 0.0000e+00\n",
      "Epoch 33/50\n",
      "8/8 [==============================] - 0s 7ms/step - loss: 0.6479 - accuracy: 0.0000e+00 - val_loss: 0.7281 - val_accuracy: 0.0000e+00\n",
      "Epoch 34/50\n",
      "8/8 [==============================] - 0s 7ms/step - loss: 0.6461 - accuracy: 0.0000e+00 - val_loss: 0.7264 - val_accuracy: 0.0000e+00\n",
      "Epoch 35/50\n",
      "8/8 [==============================] - 0s 7ms/step - loss: 0.6449 - accuracy: 0.0000e+00 - val_loss: 0.7283 - val_accuracy: 0.0000e+00\n",
      "Epoch 36/50\n",
      "8/8 [==============================] - 0s 7ms/step - loss: 0.6426 - accuracy: 0.0000e+00 - val_loss: 0.7309 - val_accuracy: 0.0000e+00\n",
      "Epoch 37/50\n",
      "8/8 [==============================] - 0s 7ms/step - loss: 0.6415 - accuracy: 0.0000e+00 - val_loss: 0.7326 - val_accuracy: 0.0000e+00\n",
      "Epoch 38/50\n",
      "8/8 [==============================] - 0s 8ms/step - loss: 0.6401 - accuracy: 0.0000e+00 - val_loss: 0.7345 - val_accuracy: 0.0000e+00\n",
      "Epoch 39/50\n",
      "8/8 [==============================] - 0s 8ms/step - loss: 0.6383 - accuracy: 0.0000e+00 - val_loss: 0.7335 - val_accuracy: 0.0000e+00\n",
      "Epoch 40/50\n",
      "8/8 [==============================] - 0s 8ms/step - loss: 0.6367 - accuracy: 0.0000e+00 - val_loss: 0.7352 - val_accuracy: 0.0000e+00\n",
      "Epoch 41/50\n",
      "8/8 [==============================] - 0s 7ms/step - loss: 0.6352 - accuracy: 0.0000e+00 - val_loss: 0.7384 - val_accuracy: 0.0000e+00\n",
      "Epoch 42/50\n",
      "8/8 [==============================] - 0s 8ms/step - loss: 0.6342 - accuracy: 0.0000e+00 - val_loss: 0.7394 - val_accuracy: 0.0000e+00\n",
      "Epoch 43/50\n",
      "8/8 [==============================] - 0s 7ms/step - loss: 0.6323 - accuracy: 0.0000e+00 - val_loss: 0.7377 - val_accuracy: 0.0000e+00\n",
      "Epoch 44/50\n",
      "8/8 [==============================] - 0s 8ms/step - loss: 0.6311 - accuracy: 0.0000e+00 - val_loss: 0.7404 - val_accuracy: 0.0000e+00\n",
      "Epoch 45/50\n",
      "8/8 [==============================] - 0s 7ms/step - loss: 0.6296 - accuracy: 0.0000e+00 - val_loss: 0.7432 - val_accuracy: 0.0000e+00\n",
      "Epoch 46/50\n",
      "8/8 [==============================] - 0s 8ms/step - loss: 0.6283 - accuracy: 0.0000e+00 - val_loss: 0.7448 - val_accuracy: 0.0000e+00\n",
      "Epoch 47/50\n",
      "8/8 [==============================] - 0s 7ms/step - loss: 0.6266 - accuracy: 0.0000e+00 - val_loss: 0.7432 - val_accuracy: 0.0000e+00\n",
      "Epoch 48/50\n",
      "8/8 [==============================] - 0s 7ms/step - loss: 0.6257 - accuracy: 0.0000e+00 - val_loss: 0.7443 - val_accuracy: 0.0000e+00\n",
      "Epoch 49/50\n",
      "8/8 [==============================] - 0s 7ms/step - loss: 0.6242 - accuracy: 0.0000e+00 - val_loss: 0.7459 - val_accuracy: 0.0000e+00\n",
      "Epoch 50/50\n",
      "8/8 [==============================] - 0s 7ms/step - loss: 0.6228 - accuracy: 0.0000e+00 - val_loss: 0.7456 - val_accuracy: 0.0000e+00\n"
     ]
    },
    {
     "data": {
      "text/plain": [
       "<keras.src.callbacks.History at 0x7fb6b83c2d50>"
      ]
     },
     "execution_count": 6,
     "metadata": {},
     "output_type": "execute_result"
    }
   ],
   "source": [
    "model.fit(X_train, A_train, epochs=50, batch_size=10, validation_split=0.1)"
   ]
  },
  {
   "cell_type": "code",
   "execution_count": 7,
   "id": "30aaf00d-f0fc-4359-b108-09a408ee8a20",
   "metadata": {
    "tags": []
   },
   "outputs": [
    {
     "name": "stdout",
     "output_type": "stream",
     "text": [
      "1/1 [==============================] - 0s 19ms/step - loss: 0.7501 - accuracy: 0.0000e+00\n",
      "Test Loss: 0.7501228451728821, Test Accuracy: 0.0\n"
     ]
    }
   ],
   "source": [
    "loss, accuracy = model.evaluate(X_test, A_test)\n",
    "print(f\"Test Loss: {loss}, Test Accuracy: {accuracy}\")"
   ]
  },
  {
   "cell_type": "code",
   "execution_count": 8,
   "id": "cc19d35c-95c7-458d-8851-2ea6e3db0c48",
   "metadata": {
    "tags": []
   },
   "outputs": [
    {
     "name": "stdout",
     "output_type": "stream",
     "text": [
      "1/1 [==============================] - 0s 142ms/step\n",
      "Predicted connections for node: [1 1 1 0 0 1 1 0 1 0 0 0 1 0 0 1 0 1 0 0 0 0 0 1 1 1 0 1 1 0 0 0 1 1 1 0 1\n",
      " 1 0 0 1 1 1 1 1 1 1 0 0 1 0 0 1 1 0 1 1 0 1 0 1 1 0 1 1 0 1 1 0 0 0 0 1 1\n",
      " 1 0 1 0 0 0 1 1 0 1 0 1 1 1 0 1 0 0 0 0 0 1 1 0 0 0]\n"
     ]
    }
   ],
   "source": [
    "def predict_adjacency_row(model, node_features):\n",
    "    \"\"\"\n",
    "    Predict the adjacency row for a given node's features using a trained neural network model.\n",
    "    \n",
    "    Parameters:\n",
    "    - model: The trained neural network model.\n",
    "    - node_features: The feature vector for the node of interest (as a numpy array).\n",
    "    \n",
    "    Returns:\n",
    "    - A binary vector representing the predicted connections from the node to all other nodes.\n",
    "    \"\"\"\n",
    "    # Ensure node_features is the right shape: (1, num_features)\n",
    "    node_features = np.array(node_features).reshape(1, -1)\n",
    "    \n",
    "    # Predict the connection probabilities using the model\n",
    "    predicted_probabilities = model.predict(node_features)\n",
    "    \n",
    "    # Convert probabilities to binary values (0 or 1) using a threshold (e.g., 0.5)\n",
    "    predicted_connections = (predicted_probabilities > 0.5).astype(int)\n",
    "    \n",
    "    # Return the first (and only) row of the predictions\n",
    "    return predicted_connections[0]\n",
    "\n",
    "# Example usage:\n",
    "# Assuming you have the features for a specific node:\n",
    "node_index = 10  # For example, if you want to predict connections for the 10th node\n",
    "node_features = X[node_index]  # Extract features for this node\n",
    "\n",
    "predicted_row = predict_adjacency_row(model, node_features)\n",
    "print(\"Predicted connections for node:\", predicted_row)"
   ]
  },
  {
   "cell_type": "code",
   "execution_count": null,
   "id": "d1b81774-1173-400e-91b6-6990fe0be7cd",
   "metadata": {},
   "outputs": [],
   "source": []
  }
 ],
 "metadata": {
  "kernelspec": {
   "display_name": "Python 3 (ipykernel)",
   "language": "python",
   "name": "python3"
  },
  "language_info": {
   "codemirror_mode": {
    "name": "ipython",
    "version": 3
   },
   "file_extension": ".py",
   "mimetype": "text/x-python",
   "name": "python",
   "nbconvert_exporter": "python",
   "pygments_lexer": "ipython3",
   "version": "3.11.5"
  }
 },
 "nbformat": 4,
 "nbformat_minor": 5
}
